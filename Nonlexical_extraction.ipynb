{
 "cells": [
  {
   "cell_type": "code",
   "execution_count": 26,
   "metadata": {},
   "outputs": [],
   "source": [
    "import pandas as pd"
   ]
  },
  {
   "cell_type": "code",
   "execution_count": 27,
   "metadata": {},
   "outputs": [],
   "source": [
    "df = pd.read_csv('datasets/questions_answers_combined.csv', lineterminator='\\n', encoding=\"ISO-8859-1\")"
   ]
  },
  {
   "cell_type": "code",
   "execution_count": 28,
   "metadata": {},
   "outputs": [
    {
     "data": {
      "text/html": [
       "<div>\n",
       "<style scoped>\n",
       "    .dataframe tbody tr th:only-of-type {\n",
       "        vertical-align: middle;\n",
       "    }\n",
       "\n",
       "    .dataframe tbody tr th {\n",
       "        vertical-align: top;\n",
       "    }\n",
       "\n",
       "    .dataframe thead th {\n",
       "        text-align: right;\n",
       "    }\n",
       "</style>\n",
       "<table border=\"1\" class=\"dataframe\">\n",
       "  <thead>\n",
       "    <tr style=\"text-align: right;\">\n",
       "      <th></th>\n",
       "      <th>question_id</th>\n",
       "      <th>answer_id</th>\n",
       "      <th>answer_count</th>\n",
       "      <th>answer_score</th>\n",
       "      <th>reputation</th>\n",
       "      <th>reply_by_author</th>\n",
       "      <th>is_accepted</th>\n",
       "    </tr>\n",
       "  </thead>\n",
       "  <tbody>\n",
       "    <tr>\n",
       "      <th>0</th>\n",
       "      <td>22528</td>\n",
       "      <td>22594</td>\n",
       "      <td>6</td>\n",
       "      <td>5</td>\n",
       "      <td>17497.0</td>\n",
       "      <td>False</td>\n",
       "      <td>False</td>\n",
       "    </tr>\n",
       "    <tr>\n",
       "      <th>1</th>\n",
       "      <td>22528</td>\n",
       "      <td>22587</td>\n",
       "      <td>6</td>\n",
       "      <td>13</td>\n",
       "      <td>17787.0</td>\n",
       "      <td>False</td>\n",
       "      <td>True</td>\n",
       "    </tr>\n",
       "    <tr>\n",
       "      <th>2</th>\n",
       "      <td>22528</td>\n",
       "      <td>22578</td>\n",
       "      <td>6</td>\n",
       "      <td>0</td>\n",
       "      <td>21216.0</td>\n",
       "      <td>False</td>\n",
       "      <td>False</td>\n",
       "    </tr>\n",
       "    <tr>\n",
       "      <th>3</th>\n",
       "      <td>22528</td>\n",
       "      <td>22551</td>\n",
       "      <td>6</td>\n",
       "      <td>1</td>\n",
       "      <td>480242.0</td>\n",
       "      <td>False</td>\n",
       "      <td>False</td>\n",
       "    </tr>\n",
       "    <tr>\n",
       "      <th>4</th>\n",
       "      <td>22528</td>\n",
       "      <td>22537</td>\n",
       "      <td>6</td>\n",
       "      <td>0</td>\n",
       "      <td>10583.0</td>\n",
       "      <td>False</td>\n",
       "      <td>False</td>\n",
       "    </tr>\n",
       "  </tbody>\n",
       "</table>\n",
       "</div>"
      ],
      "text/plain": [
       "   question_id  answer_id  answer_count  answer_score  reputation  \\\n",
       "0        22528      22594             6             5     17497.0   \n",
       "1        22528      22587             6            13     17787.0   \n",
       "2        22528      22578             6             0     21216.0   \n",
       "3        22528      22551             6             1    480242.0   \n",
       "4        22528      22537             6             0     10583.0   \n",
       "\n",
       "   reply_by_author  is_accepted  \n",
       "0            False        False  \n",
       "1            False         True  \n",
       "2            False        False  \n",
       "3            False        False  \n",
       "4            False        False  "
      ]
     },
     "execution_count": 28,
     "metadata": {},
     "output_type": "execute_result"
    }
   ],
   "source": [
    "df['reply_by_author'] = df.apply(lambda x: True if x['answer_user_id'] == \\\n",
    "                                         x['question_user_id'] else False, axis = 1)\n",
    "\n",
    "df = df[['question_id', 'answer_id', 'answer_count', 'answer_score', \\\n",
    "           'reputation', 'reply_by_author', 'is_accepted']]\n",
    "#df.loc[df['reply_by_author']]\n",
    "df.head()"
   ]
  },
  {
   "cell_type": "code",
   "execution_count": 29,
   "metadata": {},
   "outputs": [],
   "source": [
    "df.to_csv('datasets/nonlexical_features.csv')"
   ]
  },
  {
   "cell_type": "code",
   "execution_count": null,
   "metadata": {},
   "outputs": [],
   "source": []
  }
 ],
 "metadata": {
  "kernelspec": {
   "display_name": "Python 3",
   "language": "python",
   "name": "python3"
  },
  "language_info": {
   "codemirror_mode": {
    "name": "ipython",
    "version": 3
   },
   "file_extension": ".py",
   "mimetype": "text/x-python",
   "name": "python",
   "nbconvert_exporter": "python",
   "pygments_lexer": "ipython3",
   "version": "3.7.3"
  }
 },
 "nbformat": 4,
 "nbformat_minor": 4
}
