{
 "cells": [
  {
   "cell_type": "code",
   "execution_count": 18,
   "metadata": {},
   "outputs": [],
   "source": [
    "import pandas as pd\n",
    "from bs4 import BeautifulSoup, Tag"
   ]
  },
  {
   "cell_type": "code",
   "execution_count": 19,
   "metadata": {},
   "outputs": [],
   "source": [
    "df = pd.read_csv('datasets/questions_answers_combined.csv', lineterminator='\\n', encoding=\"ISO-8859-1\")"
   ]
  },
  {
   "cell_type": "code",
   "execution_count": 20,
   "metadata": {},
   "outputs": [],
   "source": [
    "def getParagraphLength(data):\n",
    "    soup = BeautifulSoup(data['answer_body'])\n",
    "    for tag in soup.find_all('code'):\n",
    "        tag.replaceWith('')\n",
    "\n",
    "    return len(soup.get_text())"
   ]
  },
  {
   "cell_type": "code",
   "execution_count": 21,
   "metadata": {},
   "outputs": [
    {
     "data": {
      "text/html": [
       "<div>\n",
       "<style scoped>\n",
       "    .dataframe tbody tr th:only-of-type {\n",
       "        vertical-align: middle;\n",
       "    }\n",
       "\n",
       "    .dataframe tbody tr th {\n",
       "        vertical-align: top;\n",
       "    }\n",
       "\n",
       "    .dataframe thead th {\n",
       "        text-align: right;\n",
       "    }\n",
       "</style>\n",
       "<table border=\"1\" class=\"dataframe\">\n",
       "  <thead>\n",
       "    <tr style=\"text-align: right;\">\n",
       "      <th></th>\n",
       "      <th>question_id</th>\n",
       "      <th>answer_id</th>\n",
       "      <th>a_score_rel_q_score</th>\n",
       "      <th>answer_score</th>\n",
       "      <th>reputation</th>\n",
       "      <th>reply_by_author</th>\n",
       "      <th>len_answer_text</th>\n",
       "      <th>is_accepted</th>\n",
       "    </tr>\n",
       "  </thead>\n",
       "  <tbody>\n",
       "    <tr>\n",
       "      <th>0</th>\n",
       "      <td>22528</td>\n",
       "      <td>22594</td>\n",
       "      <td>-6</td>\n",
       "      <td>5</td>\n",
       "      <td>17497.0</td>\n",
       "      <td>False</td>\n",
       "      <td>628</td>\n",
       "      <td>False</td>\n",
       "    </tr>\n",
       "    <tr>\n",
       "      <th>1</th>\n",
       "      <td>22528</td>\n",
       "      <td>22587</td>\n",
       "      <td>2</td>\n",
       "      <td>13</td>\n",
       "      <td>17787.0</td>\n",
       "      <td>False</td>\n",
       "      <td>699</td>\n",
       "      <td>True</td>\n",
       "    </tr>\n",
       "    <tr>\n",
       "      <th>2</th>\n",
       "      <td>22528</td>\n",
       "      <td>22578</td>\n",
       "      <td>-11</td>\n",
       "      <td>0</td>\n",
       "      <td>21216.0</td>\n",
       "      <td>False</td>\n",
       "      <td>338</td>\n",
       "      <td>False</td>\n",
       "    </tr>\n",
       "    <tr>\n",
       "      <th>3</th>\n",
       "      <td>22528</td>\n",
       "      <td>22551</td>\n",
       "      <td>-10</td>\n",
       "      <td>1</td>\n",
       "      <td>480242.0</td>\n",
       "      <td>False</td>\n",
       "      <td>422</td>\n",
       "      <td>False</td>\n",
       "    </tr>\n",
       "    <tr>\n",
       "      <th>4</th>\n",
       "      <td>22528</td>\n",
       "      <td>22537</td>\n",
       "      <td>-11</td>\n",
       "      <td>0</td>\n",
       "      <td>10583.0</td>\n",
       "      <td>False</td>\n",
       "      <td>318</td>\n",
       "      <td>False</td>\n",
       "    </tr>\n",
       "  </tbody>\n",
       "</table>\n",
       "</div>"
      ],
      "text/plain": [
       "   question_id  answer_id  a_score_rel_q_score  answer_score  reputation  \\\n",
       "0        22528      22594                   -6             5     17497.0   \n",
       "1        22528      22587                    2            13     17787.0   \n",
       "2        22528      22578                  -11             0     21216.0   \n",
       "3        22528      22551                  -10             1    480242.0   \n",
       "4        22528      22537                  -11             0     10583.0   \n",
       "\n",
       "   reply_by_author  len_answer_text  is_accepted  \n",
       "0            False              628        False  \n",
       "1            False              699         True  \n",
       "2            False              338        False  \n",
       "3            False              422        False  \n",
       "4            False              318        False  "
      ]
     },
     "execution_count": 21,
     "metadata": {},
     "output_type": "execute_result"
    }
   ],
   "source": [
    "df['reply_by_author'] = df.apply(lambda x: True if x['answer_user_id'] == \\\n",
    "                                         x['question_user_id'] else False, axis = 1)\n",
    "\n",
    "df['a_score_rel_q_score'] = df.apply(lambda x: x['answer_score'] - x['question_score'], \\\n",
    "                                     axis = 1)\n",
    "\n",
    "df['len_answer_text'] = df.apply(lambda x: getParagraphLength(x), \\\n",
    "                                     axis = 1)\n",
    "\n",
    "df = df[['question_id', 'answer_id', 'a_score_rel_q_score', 'answer_score', \\\n",
    "           'reputation', 'reply_by_author', 'len_answer_text', 'is_accepted']]\n",
    "\n",
    "df.head()"
   ]
  },
  {
   "cell_type": "code",
   "execution_count": 22,
   "metadata": {},
   "outputs": [],
   "source": [
    "df.to_csv('datasets/nonlexical_features.csv')"
   ]
  },
  {
   "cell_type": "code",
   "execution_count": null,
   "metadata": {},
   "outputs": [],
   "source": []
  }
 ],
 "metadata": {
  "kernelspec": {
   "display_name": "Python 3",
   "language": "python",
   "name": "python3"
  },
  "language_info": {
   "codemirror_mode": {
    "name": "ipython",
    "version": 3
   },
   "file_extension": ".py",
   "mimetype": "text/x-python",
   "name": "python",
   "nbconvert_exporter": "python",
   "pygments_lexer": "ipython3",
   "version": "3.7.3"
  }
 },
 "nbformat": 4,
 "nbformat_minor": 4
}
