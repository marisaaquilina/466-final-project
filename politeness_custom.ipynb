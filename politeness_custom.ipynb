{
 "cells": [
  {
   "cell_type": "markdown",
   "metadata": {},
   "source": [
    "# Lexical Features\n",
    "- Term frequency for tagged entities\n",
    "- Number of links\n",
    "- Number of code snippets\n",
    "- Measures of politeness"
   ]
  },
  {
   "cell_type": "markdown",
   "metadata": {},
   "source": [
    "## Politeness"
   ]
  },
  {
   "cell_type": "code",
   "execution_count": 1,
   "metadata": {},
   "outputs": [],
   "source": [
    "import convokit\n",
    "from convokit import Corpus, Speaker, Utterance\n",
    "from convokit import TextParser\n",
    "from convokit import download\n",
    "from convokit import PolitenessStrategies\n",
    "import pandas as pd\n",
    "import spacy\n",
    "import re"
   ]
  },
  {
   "cell_type": "code",
   "execution_count": 2,
   "metadata": {},
   "outputs": [],
   "source": [
    "def preprocess(text):\n",
    "    text = re.sub('<[^<]+?>|', '', text)\n",
    "    text = \" \".join(text.split())\n",
    "    return text"
   ]
  },
  {
   "cell_type": "code",
   "execution_count": 3,
   "metadata": {},
   "outputs": [],
   "source": [
    "from tqdm import tqdm\n",
    "from convokit import Corpus, Speaker, Utterance\n",
    "from collections import defaultdict"
   ]
  },
  {
   "cell_type": "code",
   "execution_count": 4,
   "metadata": {},
   "outputs": [
    {
     "data": {
      "text/html": [
       "<div>\n",
       "<style scoped>\n",
       "    .dataframe tbody tr th:only-of-type {\n",
       "        vertical-align: middle;\n",
       "    }\n",
       "\n",
       "    .dataframe tbody tr th {\n",
       "        vertical-align: top;\n",
       "    }\n",
       "\n",
       "    .dataframe thead th {\n",
       "        text-align: right;\n",
       "    }\n",
       "</style>\n",
       "<table border=\"1\" class=\"dataframe\">\n",
       "  <thead>\n",
       "    <tr style=\"text-align: right;\">\n",
       "      <th></th>\n",
       "      <th>question_id</th>\n",
       "      <th>answer_id</th>\n",
       "      <th>is_accepted</th>\n",
       "      <th>body</th>\n",
       "      <th>user_id</th>\n",
       "      <th>reputation</th>\n",
       "      <th>score</th>\n",
       "    </tr>\n",
       "  </thead>\n",
       "  <tbody>\n",
       "    <tr>\n",
       "      <th>0</th>\n",
       "      <td>67234961</td>\n",
       "      <td>67236964</td>\n",
       "      <td>True</td>\n",
       "      <td>If there are multiple records for given key, y...</td>\n",
       "      <td>11641029.0</td>\n",
       "      <td>5078.0</td>\n",
       "      <td>0</td>\n",
       "    </tr>\n",
       "    <tr>\n",
       "      <th>1</th>\n",
       "      <td>35793622</td>\n",
       "      <td>67239365</td>\n",
       "      <td>False</td>\n",
       "      <td>If you end up here because you Googled &amp;quot;e...</td>\n",
       "      <td>1740065.0</td>\n",
       "      <td>125.0</td>\n",
       "      <td>0</td>\n",
       "    </tr>\n",
       "    <tr>\n",
       "      <th>2</th>\n",
       "      <td>35793622</td>\n",
       "      <td>35794243</td>\n",
       "      <td>True</td>\n",
       "      <td>It seems to be an SDL issue. Here is a discuss...</td>\n",
       "      <td>1458617.0</td>\n",
       "      <td>10998.0</td>\n",
       "      <td>2</td>\n",
       "    </tr>\n",
       "    <tr>\n",
       "      <th>3</th>\n",
       "      <td>56035960</td>\n",
       "      <td>67239339</td>\n",
       "      <td>False</td>\n",
       "      <td>This could be an installation and setup proble...</td>\n",
       "      <td>10665896.0</td>\n",
       "      <td>11.0</td>\n",
       "      <td>0</td>\n",
       "    </tr>\n",
       "    <tr>\n",
       "      <th>4</th>\n",
       "      <td>56035960</td>\n",
       "      <td>56042011</td>\n",
       "      <td>True</td>\n",
       "      <td>As per java command line documentation: When y...</td>\n",
       "      <td>2897748.0</td>\n",
       "      <td>116880.0</td>\n",
       "      <td>1</td>\n",
       "    </tr>\n",
       "  </tbody>\n",
       "</table>\n",
       "</div>"
      ],
      "text/plain": [
       "   question_id  answer_id  is_accepted  \\\n",
       "0     67234961   67236964         True   \n",
       "1     35793622   67239365        False   \n",
       "2     35793622   35794243         True   \n",
       "3     56035960   67239339        False   \n",
       "4     56035960   56042011         True   \n",
       "\n",
       "                                                body     user_id  reputation  \\\n",
       "0  If there are multiple records for given key, y...  11641029.0      5078.0   \n",
       "1  If you end up here because you Googled &quot;e...   1740065.0       125.0   \n",
       "2  It seems to be an SDL issue. Here is a discuss...   1458617.0     10998.0   \n",
       "3  This could be an installation and setup proble...  10665896.0        11.0   \n",
       "4  As per java command line documentation: When y...   2897748.0    116880.0   \n",
       "\n",
       "   score  \n",
       "0      0  \n",
       "1      0  \n",
       "2      2  \n",
       "3      0  \n",
       "4      1  "
      ]
     },
     "execution_count": 4,
     "metadata": {},
     "output_type": "execute_result"
    }
   ],
   "source": [
    "answers = pd.read_csv(\"datasets/answers.csv\", encoding=\"ISO-8859-1\")\n",
    "\n",
    "answers['body'] = answers['body'].apply(lambda text: preprocess(text))\n",
    "answers.head()"
   ]
  },
  {
   "cell_type": "code",
   "execution_count": 5,
   "metadata": {},
   "outputs": [
    {
     "name": "stdout",
     "output_type": "stream",
     "text": [
      "number of speakers in the data = 4674\n"
     ]
    },
    {
     "data": {
      "text/plain": [
       "{'user_id': 11641029.0, 'reputation': 5078.0, 'score': 0}"
      ]
     },
     "execution_count": 5,
     "metadata": {},
     "output_type": "execute_result"
    }
   ],
   "source": [
    "# 1. Creating speakers\n",
    "data_dir = \"cornell movie-dialogs corpus/\"\n",
    "    \n",
    "speaker_meta = {}\n",
    "for index, row in answers.iterrows():\n",
    "    speaker_meta[str(row['user_id'])] = {\n",
    "        \"user_id\": row['user_id'],\n",
    "        \"reputation\":row['reputation'],\n",
    "        \"score\": row['score']\n",
    "    }\n",
    "    \n",
    "corpus_speakers = {k: Speaker(id = k, meta = v) for k,v in speaker_meta.items()}\n",
    "print(\"number of speakers in the data = {}\".format(len(corpus_speakers)))\n",
    "corpus_speakers['11641029.0'].meta"
   ]
  },
  {
   "cell_type": "code",
   "execution_count": 18,
   "metadata": {},
   "outputs": [
    {
     "name": "stdout",
     "output_type": "stream",
     "text": [
      "Total number of utterances = 9149\n"
     ]
    },
    {
     "data": {
      "text/plain": [
       "Utterance({'obj_type': 'utterance', 'meta': {'answer_id': '67236964'}, 'vectors': [], 'speaker': Speaker({'obj_type': 'speaker', 'meta': {'user_id': 11641029.0, 'reputation': 5078.0, 'score': 0}, 'vectors': [], 'owner': <convokit.model.corpus.Corpus object at 0x136097ca0>, 'id': '11641029.0'}), 'conversation_id': None, 'reply_to': None, 'timestamp': None, 'text': \"If there are multiple records for given key, you were overriding it everytime. Update your inner loop with following code. for (const [reportKey, reportValue] of Object.entries(value)) { // console.log(reportKey, reportValue); // this[&quot;reportKey&quot;] = reportKey; if ( reportKey.toUpperCase() != horizontal &amp;&amp; reportKey.toUpperCase() != vertical ) { // this[&quot;reportKey&quot;] = this.getMetricsName(this[&quot;reportKey&quot;]); let rK = this.getMetricsName(reportKey); // let dataSet = []; // dataSet.push( let dataset = { x: xAxis, y: yAxis, value: reportValue, &quot;x-axis&quot;: horizontal, &quot;y-axis&quot;: vertical, &quot;x-name&quot;: value.PROCESSING_DAY, &quot;y-name&quot;: value.PROCESSING_TIME }; // ); if (!(rK[0] in reportKeyData)) { reportKeyData[rK[0]] = []; } reportKeyData[rK[0]].push(dataset); // reportKeyData[this[&quot;reportKey&quot;][0]] = dataSet; } } Note: I've kept your code as commented, so you can see what has been changed.\", 'owner': None, 'id': '0'})"
      ]
     },
     "execution_count": 18,
     "metadata": {},
     "output_type": "execute_result"
    }
   ],
   "source": [
    "# 2. Creating utterance objects   \n",
    "utterance_corpus = {}\n",
    "count = 0\n",
    "for index, row in answers.iterrows():\n",
    "    utterance_corpus[str(index)] = Utterance(id=str(index), speaker=corpus_speakers[str(row['user_id'])], text=row['body'], meta={'answer_id': str(row['answer_id'])})\n",
    "    \n",
    "print(\"Total number of utterances = {}\".format(len(utterance_corpus)))\n",
    "utterance_corpus[str(0)]"
   ]
  },
  {
   "cell_type": "code",
   "execution_count": 21,
   "metadata": {},
   "outputs": [
    {
     "data": {
      "text/plain": [
       "Utterance({'obj_type': 'utterance', 'meta': {'answer_id': '67236964'}, 'vectors': [], 'speaker': Speaker({'obj_type': 'speaker', 'meta': {'user_id': 11641029.0, 'reputation': 5078.0, 'score': 0}, 'vectors': [], 'owner': <convokit.model.corpus.Corpus object at 0x137b52af0>, 'id': '11641029.0'}), 'conversation_id': '67236964', 'reply_to': '67234961', 'timestamp': None, 'text': \"If there are multiple records for given key, you were overriding it everytime. Update your inner loop with following code. for (const [reportKey, reportValue] of Object.entries(value)) { // console.log(reportKey, reportValue); // this[&quot;reportKey&quot;] = reportKey; if ( reportKey.toUpperCase() != horizontal &amp;&amp; reportKey.toUpperCase() != vertical ) { // this[&quot;reportKey&quot;] = this.getMetricsName(this[&quot;reportKey&quot;]); let rK = this.getMetricsName(reportKey); // let dataSet = []; // dataSet.push( let dataset = { x: xAxis, y: yAxis, value: reportValue, &quot;x-axis&quot;: horizontal, &quot;y-axis&quot;: vertical, &quot;x-name&quot;: value.PROCESSING_DAY, &quot;y-name&quot;: value.PROCESSING_TIME }; // ); if (!(rK[0] in reportKeyData)) { reportKeyData[rK[0]] = []; } reportKeyData[rK[0]].push(dataset); // reportKeyData[this[&quot;reportKey&quot;][0]] = dataSet; } } Note: I've kept your code as commented, so you can see what has been changed.\", 'owner': <convokit.model.corpus.Corpus object at 0x137b52af0>, 'id': '0'})"
      ]
     },
     "execution_count": 21,
     "metadata": {},
     "output_type": "execute_result"
    }
   ],
   "source": [
    "#  Updating root and reply_to information to utterances\n",
    "with open(data_dir + \"movie_conversations.txt\", \"r\", encoding='utf-8', errors='ignore') as f:\n",
    "    convo_data = f.readlines()\n",
    "\n",
    "import ast\n",
    "\n",
    "for index, row in answers.iterrows():\n",
    "    utterance_corpus[str(index)].conversation_id = str(row['answer_id'])\n",
    "    utterance_corpus[str(index)].reply_to = str(row['question_id'])\n",
    "                \n",
    "utterance_corpus[str(0)]"
   ]
  },
  {
   "cell_type": "code",
   "execution_count": 22,
   "metadata": {},
   "outputs": [
    {
     "name": "stdout",
     "output_type": "stream",
     "text": [
      "sample conversation 0:\n",
      "['0']\n",
      "sample conversation 1:\n",
      "['1']\n",
      "sample conversation 2:\n",
      "['2']\n",
      "sample conversation 3:\n",
      "['3']\n",
      "sample conversation 4:\n",
      "['4']\n"
     ]
    }
   ],
   "source": [
    "# 3. Creating corpus from list of utterances\n",
    "utterance_list = utterance_corpus.values()\n",
    "answer_corpus = Corpus(utterances=utterance_list)\n",
    "convo_ids = answer_corpus.get_conversation_ids()\n",
    "for i, convo_idx in enumerate(convo_ids[0:5]):\n",
    "    print(\"sample conversation {}:\".format(i))\n",
    "    print(answer_corpus.get_conversation(convo_idx).get_utterance_ids())"
   ]
  },
  {
   "cell_type": "code",
   "execution_count": 26,
   "metadata": {},
   "outputs": [
    {
     "ename": "KeyError",
     "evalue": "'67236964'",
     "output_type": "error",
     "traceback": [
      "\u001b[0;31m---------------------------------------------------------------------------\u001b[0m",
      "\u001b[0;31mKeyError\u001b[0m                                  Traceback (most recent call last)",
      "\u001b[0;32m<ipython-input-26-24397591e108>\u001b[0m in \u001b[0;36m<module>\u001b[0;34m\u001b[0m\n\u001b[1;32m     16\u001b[0m     \u001b[0;31m# get the movie_id for the conversation by checking from utterance info\u001b[0m\u001b[0;34m\u001b[0m\u001b[0;34m\u001b[0m\u001b[0;34m\u001b[0m\u001b[0m\n\u001b[1;32m     17\u001b[0m     \u001b[0mconvo_id\u001b[0m \u001b[0;34m=\u001b[0m \u001b[0mconvo\u001b[0m\u001b[0;34m.\u001b[0m\u001b[0mget_id\u001b[0m\u001b[0;34m(\u001b[0m\u001b[0;34m)\u001b[0m\u001b[0;34m\u001b[0m\u001b[0;34m\u001b[0m\u001b[0m\n\u001b[0;32m---> 18\u001b[0;31m     \u001b[0manswer_idx\u001b[0m \u001b[0;34m=\u001b[0m \u001b[0manswer_corpus\u001b[0m\u001b[0;34m.\u001b[0m\u001b[0mget_utterance\u001b[0m\u001b[0;34m(\u001b[0m\u001b[0mconvo_id\u001b[0m\u001b[0;34m)\u001b[0m\u001b[0;34m.\u001b[0m\u001b[0mmeta\u001b[0m\u001b[0;34m[\u001b[0m\u001b[0;34m'answer_id'\u001b[0m\u001b[0;34m]\u001b[0m\u001b[0;34m\u001b[0m\u001b[0;34m\u001b[0m\u001b[0m\n\u001b[0m\u001b[1;32m     19\u001b[0m \u001b[0;34m\u001b[0m\u001b[0m\n\u001b[1;32m     20\u001b[0m     \u001b[0;31m# add movie idx as meta, and update meta with additional movie information\u001b[0m\u001b[0;34m\u001b[0m\u001b[0;34m\u001b[0m\u001b[0;34m\u001b[0m\u001b[0m\n",
      "\u001b[0;32m/usr/local/lib/python3.8/site-packages/convokit/model/corpus.py\u001b[0m in \u001b[0;36mget_utterance\u001b[0;34m(self, utt_id)\u001b[0m\n\u001b[1;32m    231\u001b[0m         \u001b[0;34m:\u001b[0m\u001b[0;32mreturn\u001b[0m\u001b[0;34m:\u001b[0m \u001b[0mUtterance\u001b[0m\u001b[0;34m\u001b[0m\u001b[0;34m\u001b[0m\u001b[0m\n\u001b[1;32m    232\u001b[0m         \"\"\"\n\u001b[0;32m--> 233\u001b[0;31m         \u001b[0;32mreturn\u001b[0m \u001b[0mself\u001b[0m\u001b[0;34m.\u001b[0m\u001b[0mutterances\u001b[0m\u001b[0;34m[\u001b[0m\u001b[0mutt_id\u001b[0m\u001b[0;34m]\u001b[0m\u001b[0;34m\u001b[0m\u001b[0;34m\u001b[0m\u001b[0m\n\u001b[0m\u001b[1;32m    234\u001b[0m \u001b[0;34m\u001b[0m\u001b[0m\n\u001b[1;32m    235\u001b[0m     \u001b[0;32mdef\u001b[0m \u001b[0mget_conversation\u001b[0m\u001b[0;34m(\u001b[0m\u001b[0mself\u001b[0m\u001b[0;34m,\u001b[0m \u001b[0mconvo_id\u001b[0m\u001b[0;34m:\u001b[0m \u001b[0mstr\u001b[0m\u001b[0;34m)\u001b[0m \u001b[0;34m->\u001b[0m \u001b[0mConversation\u001b[0m\u001b[0;34m:\u001b[0m\u001b[0;34m\u001b[0m\u001b[0;34m\u001b[0m\u001b[0m\n",
      "\u001b[0;31mKeyError\u001b[0m: '67236964'"
     ]
    }
   ],
   "source": [
    "# 4. Updating Conversation and Corpus level metadata\n",
    "with open(data_dir + \"movie_titles_metadata.txt\", \"r\", encoding='utf-8', errors='ignore') as f:\n",
    "    movie_extra = f.readlines()\n",
    "\n",
    "movie_meta = defaultdict(dict)\n",
    "for movie in movie_extra:\n",
    "    movie_id, title, year, rating, votes, genre  = [info.strip() for info in movie.split(\"+++$+++\")]\n",
    "    movie_meta[movie_id] = {\"movie_name\": title,\n",
    "                            \"release_year\": year,\n",
    "                            \"rating\": rating,\n",
    "                            \"votes\": votes,\n",
    "                            \"genre\": genre}\n",
    "    \n",
    "for convo in movie_corpus.iter_conversations():\n",
    "    \n",
    "    # get the movie_id for the conversation by checking from utterance info\n",
    "    convo_id = convo.get_id()\n",
    "    movie_idx = movie_corpus.get_utterance(convo_id).meta['movie_id']\n",
    "    \n",
    "    # add movie idx as meta, and update meta with additional movie information\n",
    "    convo.meta['movie_idx'] = movie_idx\n",
    "    convo.meta.update(movie_meta[movie_idx])\n",
    "movie_corpus.get_conversation(\"L609301\").meta\n",
    "\n",
    "with open(data_dir + \"raw_script_urls.txt\", \"r\", encoding='utf-8', errors='ignore') as f:\n",
    "    urls = f.readlines()\n",
    "    \n",
    "movie2url = {}\n",
    "for movie in urls:\n",
    "    movie_id, _, url = [info.strip() for info in movie.split(\"+++$+++\")]\n",
    "    movie2url[movie_id] = url\n",
    "    \n",
    "movie_corpus.meta['url'] = movie2url\n",
    "movie_corpus.meta['name'] = \"Cornell Movie-Dialogs Corpus\""
   ]
  },
  {
   "cell_type": "code",
   "execution_count": 8,
   "metadata": {},
   "outputs": [
    {
     "name": "stderr",
     "output_type": "stream",
     "text": [
      "  0%|          | 0/304713 [00:00<?, ?it/s]\n"
     ]
    },
    {
     "ename": "KeyError",
     "evalue": "'u0'",
     "output_type": "error",
     "traceback": [
      "\u001b[0;31m---------------------------------------------------------------------------\u001b[0m",
      "\u001b[0;31mKeyError\u001b[0m                                  Traceback (most recent call last)",
      "\u001b[0;32m<ipython-input-8-c87034864d6d>\u001b[0m in \u001b[0;36m<module>\u001b[0;34m\u001b[0m\n\u001b[1;32m     11\u001b[0m     \u001b[0mmeta\u001b[0m \u001b[0;34m=\u001b[0m \u001b[0;34m{\u001b[0m\u001b[0;34m'movie_id'\u001b[0m\u001b[0;34m:\u001b[0m \u001b[0mmovie_id\u001b[0m\u001b[0;34m}\u001b[0m\u001b[0;34m\u001b[0m\u001b[0;34m\u001b[0m\u001b[0m\n\u001b[1;32m     12\u001b[0m     \u001b[0;31m# root & reply_to will be updated later, timestamp is not applicable\u001b[0m\u001b[0;34m\u001b[0m\u001b[0;34m\u001b[0m\u001b[0;34m\u001b[0m\u001b[0m\n\u001b[0;32m---> 13\u001b[0;31m     \u001b[0mutterance_corpus\u001b[0m\u001b[0;34m[\u001b[0m\u001b[0midx\u001b[0m\u001b[0;34m]\u001b[0m \u001b[0;34m=\u001b[0m \u001b[0mUtterance\u001b[0m\u001b[0;34m(\u001b[0m\u001b[0mid\u001b[0m\u001b[0;34m=\u001b[0m\u001b[0midx\u001b[0m\u001b[0;34m,\u001b[0m \u001b[0mspeaker\u001b[0m\u001b[0;34m=\u001b[0m\u001b[0mcorpus_speakers\u001b[0m\u001b[0;34m[\u001b[0m\u001b[0mspeaker\u001b[0m\u001b[0;34m]\u001b[0m\u001b[0;34m,\u001b[0m \u001b[0mtext\u001b[0m\u001b[0;34m=\u001b[0m\u001b[0mtext\u001b[0m\u001b[0;34m,\u001b[0m \u001b[0mmeta\u001b[0m\u001b[0;34m=\u001b[0m\u001b[0mmeta\u001b[0m\u001b[0;34m)\u001b[0m\u001b[0;34m\u001b[0m\u001b[0;34m\u001b[0m\u001b[0m\n\u001b[0m\u001b[1;32m     14\u001b[0m \u001b[0mprint\u001b[0m\u001b[0;34m(\u001b[0m\u001b[0;34m\"Total number of utterances = {}\"\u001b[0m\u001b[0;34m.\u001b[0m\u001b[0mformat\u001b[0m\u001b[0;34m(\u001b[0m\u001b[0mlen\u001b[0m\u001b[0;34m(\u001b[0m\u001b[0mutterance_corpus\u001b[0m\u001b[0;34m)\u001b[0m\u001b[0;34m)\u001b[0m\u001b[0;34m)\u001b[0m\u001b[0;34m\u001b[0m\u001b[0;34m\u001b[0m\u001b[0m\n\u001b[1;32m     15\u001b[0m \u001b[0mutterance_corpus\u001b[0m\u001b[0;34m[\u001b[0m\u001b[0;34m'L1044'\u001b[0m\u001b[0;34m]\u001b[0m\u001b[0;34m\u001b[0m\u001b[0;34m\u001b[0m\u001b[0m\n",
      "\u001b[0;31mKeyError\u001b[0m: 'u0'"
     ]
    }
   ],
   "source": [
    "\n",
    "\n",
    "with open(data_dir + \"raw_script_urls.txt\", \"r\", encoding='utf-8', errors='ignore') as f:\n",
    "    urls = f.readlines()\n",
    "    \n",
    "movie2url = {}\n",
    "for movie in urls:\n",
    "    movie_id, _, url = [info.strip() for info in movie.split(\"+++$+++\")]\n",
    "    movie2url[movie_id] = url\n",
    "    \n",
    "movie_corpus.meta['url'] = movie2url\n",
    "movie_corpus.meta['name'] = \"Cornell Movie-Dialogs Corpus\"\n",
    "\n",
    "# 5. Processing utterance texts\n",
    "from convokit.text_processing import TextParser\n",
    "parser = TextParser(verbosity=10000)\n",
    "movie_corpus = parser.transform(movie_corpus)\n",
    "movie_corpus.get_utterance('L666499').retrieve_meta('parsed')\n",
    "\n",
    "# 6. Saving created datasets\n",
    "movie_corpus.dump(\"movie-corpus\")\n",
    "from convokit import meta_index\n",
    "import os.path\n",
    "meta_index(filename = os.path.join(os.path.expanduser(\"~\"), \".convokit/saved-corpora/movie-corpus\"))"
   ]
  },
  {
   "cell_type": "code",
   "execution_count": null,
   "metadata": {},
   "outputs": [],
   "source": [
    "wiki_corpus = Corpus('data_transformation.ipynb')\n",
    "\n",
    "parser = TextParser(verbosity=1000)\n",
    "\n",
    "ps = PolitenessStrategies()\n",
    "wiki_corpus = ps.transform(wiki_corpus, markers=True)\n",
    "wiki_corpus.get_utterance('434044').meta"
   ]
  },
  {
   "cell_type": "code",
   "execution_count": null,
   "metadata": {},
   "outputs": [],
   "source": [
    "pip install politeness==0.1.2"
   ]
  },
  {
   "cell_type": "code",
   "execution_count": null,
   "metadata": {},
   "outputs": [],
   "source": [
    "from politeness.helpers import set_corenlp_url\n",
    "set_corenlp_url('some-url.org:1234')"
   ]
  },
  {
   "cell_type": "code",
   "execution_count": null,
   "metadata": {},
   "outputs": [],
   "source": []
  }
 ],
 "metadata": {
  "kernelspec": {
   "display_name": "Python 3",
   "language": "python",
   "name": "python3"
  },
  "language_info": {
   "codemirror_mode": {
    "name": "ipython",
    "version": 3
   },
   "file_extension": ".py",
   "mimetype": "text/x-python",
   "name": "python",
   "nbconvert_exporter": "python",
   "pygments_lexer": "ipython3",
   "version": "3.8.5"
  }
 },
 "nbformat": 4,
 "nbformat_minor": 4
}
