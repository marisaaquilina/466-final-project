{
 "cells": [
  {
   "cell_type": "code",
   "execution_count": 83,
   "metadata": {},
   "outputs": [],
   "source": [
    "import pandas as pd\n",
    "import numpy as np\n",
    "from sklearn.naive_bayes import BernoulliNB\n",
    "from sklearn.model_selection import train_test_split\n",
    "from sklearn.metrics import classification_report\n",
    "from sklearn.linear_model import LogisticRegression"
   ]
  },
  {
   "cell_type": "code",
   "execution_count": 89,
   "metadata": {},
   "outputs": [
    {
     "name": "stdout",
     "output_type": "stream",
     "text": [
      "10487\n"
     ]
    },
    {
     "data": {
      "text/plain": [
       "Index(['question_id', 'answer_id', 'a_score_rel_q_score', 'answer_score',\n",
       "       'entities_matches', 'reputation', 'reply_by_author', 'len_answer_text',\n",
       "       'is_accepted', 'code_snippet_count', 'link_count', 'Hedges',\n",
       "       'Positive.Emotion', 'Negative.Emotion', 'Impersonal.Pronoun',\n",
       "       'Swearing', 'Negation', 'Filler.Pause', 'Informal.Title',\n",
       "       'Formal.Title', 'Could.You', 'Can.You', 'By.The.Way', 'Let.Me.Know',\n",
       "       'Goodbye', 'For.Me', 'For.You', 'Reasoning', 'Reassurance',\n",
       "       'Ask.Agency', 'Give.Agency', 'Hello', 'Please', 'First.Person.Plural',\n",
       "       'First.Person.Single', 'Second.Person', 'Agreement', 'Acknowledgement',\n",
       "       'Subjectivity', 'Bare.Command', 'WH.Questions', 'YesNo.Questions',\n",
       "       'Gratitude', 'Apology', 'Truth.Intensifier', 'Affirmation',\n",
       "       'Adverb.Just', 'Conjunction.Start'],\n",
       "      dtype='object')"
      ]
     },
     "execution_count": 89,
     "metadata": {},
     "output_type": "execute_result"
    }
   ],
   "source": [
    "data = pd.read_csv(\"datasets/features_with_politeness.csv\", lineterminator='\\n', encoding=\"ISO-8859-1\")\n",
    "print(len(data))\n",
    "data.columns"
   ]
  },
  {
   "cell_type": "code",
   "execution_count": 92,
   "metadata": {},
   "outputs": [
    {
     "name": "stdout",
     "output_type": "stream",
     "text": [
      "7467\n"
     ]
    }
   ],
   "source": [
    "b_data = data.copy()\n",
    "b_data = b_data.sort_values(by=['question_id','answer_score'], ascending=False)\n",
    "b_data[\"rank\"] = b_data.groupby(\"question_id\")[\"answer_score\"].rank(\"dense\", ascending=False)\n",
    "print(max(b_data['answer_score']))"
   ]
  },
  {
   "cell_type": "code",
   "execution_count": null,
   "metadata": {},
   "outputs": [],
   "source": []
  },
  {
   "cell_type": "code",
   "execution_count": 94,
   "metadata": {},
   "outputs": [
    {
     "ename": "KeyError",
     "evalue": "'Hedges'",
     "output_type": "error",
     "traceback": [
      "\u001b[0;31m---------------------------------------------------------------------------\u001b[0m",
      "\u001b[0;31mKeyError\u001b[0m                                  Traceback (most recent call last)",
      "\u001b[0;32m/opt/tljh/user/lib/python3.7/site-packages/pandas/core/indexes/base.py\u001b[0m in \u001b[0;36mget_loc\u001b[0;34m(self, key, method, tolerance)\u001b[0m\n\u001b[1;32m   3079\u001b[0m             \u001b[0;32mtry\u001b[0m\u001b[0;34m:\u001b[0m\u001b[0;34m\u001b[0m\u001b[0;34m\u001b[0m\u001b[0m\n\u001b[0;32m-> 3080\u001b[0;31m                 \u001b[0;32mreturn\u001b[0m \u001b[0mself\u001b[0m\u001b[0;34m.\u001b[0m\u001b[0m_engine\u001b[0m\u001b[0;34m.\u001b[0m\u001b[0mget_loc\u001b[0m\u001b[0;34m(\u001b[0m\u001b[0mcasted_key\u001b[0m\u001b[0;34m)\u001b[0m\u001b[0;34m\u001b[0m\u001b[0;34m\u001b[0m\u001b[0m\n\u001b[0m\u001b[1;32m   3081\u001b[0m             \u001b[0;32mexcept\u001b[0m \u001b[0mKeyError\u001b[0m \u001b[0;32mas\u001b[0m \u001b[0merr\u001b[0m\u001b[0;34m:\u001b[0m\u001b[0;34m\u001b[0m\u001b[0;34m\u001b[0m\u001b[0m\n",
      "\u001b[0;32mpandas/_libs/index.pyx\u001b[0m in \u001b[0;36mpandas._libs.index.IndexEngine.get_loc\u001b[0;34m()\u001b[0m\n",
      "\u001b[0;32mpandas/_libs/index.pyx\u001b[0m in \u001b[0;36mpandas._libs.index.IndexEngine.get_loc\u001b[0;34m()\u001b[0m\n",
      "\u001b[0;32mpandas/_libs/hashtable_class_helper.pxi\u001b[0m in \u001b[0;36mpandas._libs.hashtable.PyObjectHashTable.get_item\u001b[0;34m()\u001b[0m\n",
      "\u001b[0;32mpandas/_libs/hashtable_class_helper.pxi\u001b[0m in \u001b[0;36mpandas._libs.hashtable.PyObjectHashTable.get_item\u001b[0;34m()\u001b[0m\n",
      "\u001b[0;31mKeyError\u001b[0m: 'Hedges'",
      "\nThe above exception was the direct cause of the following exception:\n",
      "\u001b[0;31mKeyError\u001b[0m                                  Traceback (most recent call last)",
      "\u001b[0;32m<ipython-input-94-03d72fc20dec>\u001b[0m in \u001b[0;36m<module>\u001b[0;34m\u001b[0m\n\u001b[1;32m     16\u001b[0m \u001b[0;34m\u001b[0m\u001b[0m\n\u001b[1;32m     17\u001b[0m \u001b[0;32mfor\u001b[0m \u001b[0mcol\u001b[0m \u001b[0;32min\u001b[0m \u001b[0mto_binary_cols\u001b[0m\u001b[0;34m:\u001b[0m\u001b[0;34m\u001b[0m\u001b[0;34m\u001b[0m\u001b[0m\n\u001b[0;32m---> 18\u001b[0;31m     \u001b[0mb_data\u001b[0m\u001b[0;34m[\u001b[0m\u001b[0mcol\u001b[0m\u001b[0;34m]\u001b[0m \u001b[0;34m=\u001b[0m \u001b[0mb_data\u001b[0m\u001b[0;34m[\u001b[0m\u001b[0mcol\u001b[0m\u001b[0;34m]\u001b[0m\u001b[0;34m.\u001b[0m\u001b[0mapply\u001b[0m\u001b[0;34m(\u001b[0m\u001b[0;32mlambda\u001b[0m \u001b[0mx\u001b[0m\u001b[0;34m:\u001b[0m \u001b[0;36m0\u001b[0m \u001b[0;32mif\u001b[0m \u001b[0mx\u001b[0m \u001b[0;34m==\u001b[0m \u001b[0;36m0\u001b[0m \u001b[0;32melse\u001b[0m \u001b[0;36m1\u001b[0m\u001b[0;34m)\u001b[0m\u001b[0;34m\u001b[0m\u001b[0;34m\u001b[0m\u001b[0m\n\u001b[0m\u001b[1;32m     19\u001b[0m \u001b[0;34m\u001b[0m\u001b[0m\n\u001b[1;32m     20\u001b[0m \u001b[0;31m#b_data['rank_score'] = b_data['rank'].apply(lambda x: 0 if x > 2 else 1)\u001b[0m\u001b[0;34m\u001b[0m\u001b[0;34m\u001b[0m\u001b[0;34m\u001b[0m\u001b[0m\n",
      "\u001b[0;32m/opt/tljh/user/lib/python3.7/site-packages/pandas/core/frame.py\u001b[0m in \u001b[0;36m__getitem__\u001b[0;34m(self, key)\u001b[0m\n\u001b[1;32m   3022\u001b[0m             \u001b[0;32mif\u001b[0m \u001b[0mself\u001b[0m\u001b[0;34m.\u001b[0m\u001b[0mcolumns\u001b[0m\u001b[0;34m.\u001b[0m\u001b[0mnlevels\u001b[0m \u001b[0;34m>\u001b[0m \u001b[0;36m1\u001b[0m\u001b[0;34m:\u001b[0m\u001b[0;34m\u001b[0m\u001b[0;34m\u001b[0m\u001b[0m\n\u001b[1;32m   3023\u001b[0m                 \u001b[0;32mreturn\u001b[0m \u001b[0mself\u001b[0m\u001b[0;34m.\u001b[0m\u001b[0m_getitem_multilevel\u001b[0m\u001b[0;34m(\u001b[0m\u001b[0mkey\u001b[0m\u001b[0;34m)\u001b[0m\u001b[0;34m\u001b[0m\u001b[0;34m\u001b[0m\u001b[0m\n\u001b[0;32m-> 3024\u001b[0;31m             \u001b[0mindexer\u001b[0m \u001b[0;34m=\u001b[0m \u001b[0mself\u001b[0m\u001b[0;34m.\u001b[0m\u001b[0mcolumns\u001b[0m\u001b[0;34m.\u001b[0m\u001b[0mget_loc\u001b[0m\u001b[0;34m(\u001b[0m\u001b[0mkey\u001b[0m\u001b[0;34m)\u001b[0m\u001b[0;34m\u001b[0m\u001b[0;34m\u001b[0m\u001b[0m\n\u001b[0m\u001b[1;32m   3025\u001b[0m             \u001b[0;32mif\u001b[0m \u001b[0mis_integer\u001b[0m\u001b[0;34m(\u001b[0m\u001b[0mindexer\u001b[0m\u001b[0;34m)\u001b[0m\u001b[0;34m:\u001b[0m\u001b[0;34m\u001b[0m\u001b[0;34m\u001b[0m\u001b[0m\n\u001b[1;32m   3026\u001b[0m                 \u001b[0mindexer\u001b[0m \u001b[0;34m=\u001b[0m \u001b[0;34m[\u001b[0m\u001b[0mindexer\u001b[0m\u001b[0;34m]\u001b[0m\u001b[0;34m\u001b[0m\u001b[0;34m\u001b[0m\u001b[0m\n",
      "\u001b[0;32m/opt/tljh/user/lib/python3.7/site-packages/pandas/core/indexes/base.py\u001b[0m in \u001b[0;36mget_loc\u001b[0;34m(self, key, method, tolerance)\u001b[0m\n\u001b[1;32m   3080\u001b[0m                 \u001b[0;32mreturn\u001b[0m \u001b[0mself\u001b[0m\u001b[0;34m.\u001b[0m\u001b[0m_engine\u001b[0m\u001b[0;34m.\u001b[0m\u001b[0mget_loc\u001b[0m\u001b[0;34m(\u001b[0m\u001b[0mcasted_key\u001b[0m\u001b[0;34m)\u001b[0m\u001b[0;34m\u001b[0m\u001b[0;34m\u001b[0m\u001b[0m\n\u001b[1;32m   3081\u001b[0m             \u001b[0;32mexcept\u001b[0m \u001b[0mKeyError\u001b[0m \u001b[0;32mas\u001b[0m \u001b[0merr\u001b[0m\u001b[0;34m:\u001b[0m\u001b[0;34m\u001b[0m\u001b[0;34m\u001b[0m\u001b[0m\n\u001b[0;32m-> 3082\u001b[0;31m                 \u001b[0;32mraise\u001b[0m \u001b[0mKeyError\u001b[0m\u001b[0;34m(\u001b[0m\u001b[0mkey\u001b[0m\u001b[0;34m)\u001b[0m \u001b[0;32mfrom\u001b[0m \u001b[0merr\u001b[0m\u001b[0;34m\u001b[0m\u001b[0;34m\u001b[0m\u001b[0m\n\u001b[0m\u001b[1;32m   3083\u001b[0m \u001b[0;34m\u001b[0m\u001b[0m\n\u001b[1;32m   3084\u001b[0m         \u001b[0;32mif\u001b[0m \u001b[0mtolerance\u001b[0m \u001b[0;32mis\u001b[0m \u001b[0;32mnot\u001b[0m \u001b[0;32mNone\u001b[0m\u001b[0;34m:\u001b[0m\u001b[0;34m\u001b[0m\u001b[0;34m\u001b[0m\u001b[0m\n",
      "\u001b[0;31mKeyError\u001b[0m: 'Hedges'"
     ]
    }
   ],
   "source": [
    "#b_data['is_accepted'] = b_data['is_accepted'].astype(int).to_numpy()\n",
    "#print(np.bincount(target))\n",
    "# Drop non-discrete columns and convert columns\n",
    "\n",
    "\n",
    "to_binary_cols = ['Hedges', 'Positive.Emotion', 'Negative.Emotion',\n",
    "       'Impersonal.Pronoun', 'Swearing', 'Negation', 'Filler.Pause',\n",
    "       'Informal.Title', 'Formal.Title', 'Could.You', 'Can.You', 'By.The.Way',\n",
    "       'Let.Me.Know', 'Goodbye', 'For.Me', 'For.You', 'Reasoning',\n",
    "       'Reassurance', 'Ask.Agency', 'Give.Agency', 'Hello', 'Please',\n",
    "       'First.Person.Plural', 'First.Person.Single', 'Second.Person',\n",
    "       'Agreement', 'Acknowledgement', 'Subjectivity', 'Bare.Command',\n",
    "       'WH.Questions', 'YesNo.Questions', 'Gratitude', 'Apology',\n",
    "       'Truth.Intensifier', 'Affirmation', 'Adverb.Just', 'Conjunction.Start', \n",
    "        'code_snippet_count', 'link_count', 'entities_matches']\n",
    "\n",
    "for col in to_binary_cols:\n",
    "    b_data[col] = b_data[col].apply(lambda x: 0 if x == 0 else 1)\n",
    "    \n",
    "#b_data['rank_score'] = b_data['rank'].apply(lambda x: 0 if x > 2 else 1)\n",
    "b_data['has_more_upvotes_than_ans'] = b_data['a_score_rel_q_score'].apply(lambda x: 0 if x < 0 else 1)\n",
    "b_data['reply_by_author'] = b_data[\"reply_by_author\"].astype(int)\n",
    "\n",
    "bins = [-20, -5, -4, 0, 2, 5, 10, 50, 7500]\n",
    "target,width_bins = pd.cut(b_data['answer_score'], bins, retbins=True, duplicates='drop')\n",
    "#print(width_bins)\n",
    "width_binned_counts = width_binned.value_counts()\n",
    "print(width_binned_counts)\n",
    "print(target)\n",
    "b_data['answer_score'] = target.cat.codes\n",
    "print(b_data['answer_score'])\n",
    "\n",
    "b_data = b_data.drop(['question_id', 'answer_id', 'a_score_rel_q_score', \\\n",
    "                   'entities_matches', 'len_answer_text', 'reputation', \n",
    "                    'Impersonal.Pronoun', 'Swearing','Filler.Pause', 'Informal.Title',\n",
    "       'Formal.Title', 'Could.You', 'Can.You', 'By.The.Way', 'Let.Me.Know',\n",
    "       'Goodbye', 'For.Me', 'For.You', 'Reasoning', 'Reassurance',\n",
    "       'Ask.Agency', 'Give.Agency', 'Hello', 'Please', 'First.Person.Plural',\n",
    "       'First.Person.Single', 'Second.Person', 'Adverb.Just', 'Conjunction.Start',\n",
    "                    'Agreement', 'Acknowledgement',\n",
    "       'Subjectivity', 'Bare.Command', 'WH.Questions', 'YesNo.Questions',\n",
    "       'Gratitude', 'Apology', 'Truth.Intensifier', 'Hedges', 'is_accepted'], axis=1)\n",
    "test = b_data.iloc[b_data.index[0:2096]]\n",
    "\n",
    "test_label = test['answer_score']\n",
    "test_rank = test['rank']\n",
    "test = test.drop(['rank','answer_score'], axis=1).to_numpy()\n",
    "train = b_data.iloc[b_data.index[2096:]]\n",
    "train_label = train['answer_score']\n",
    "train = train.drop(['rank','answer_score'], axis=1).to_numpy()\n",
    "\n",
    "clf = BernoulliNB()\n",
    "clf.fit(train, train_label)\n",
    "predictions = clf.predict(test)\n",
    "print(predictions)\n",
    "\n",
    "#test['pred'] = predictions\n",
    "print(np.bincount(predictions))\n",
    "#clf.score(test, test_label)\n",
    "\n",
    "#print(classification_report(list(test_label), list(predictions)))\n",
    "\n",
    "#top_two_pred = \n"
   ]
  },
  {
   "cell_type": "code",
   "execution_count": 88,
   "metadata": {},
   "outputs": [
    {
     "name": "stdout",
     "output_type": "stream",
     "text": [
      "[1 0 1 ... 0 1 1]\n",
      "[1014 1049   26    0    7]\n"
     ]
    }
   ],
   "source": [
    "clf = LogisticRegression(multi_class='multinomial',solver ='newton-cg').fit(train,train_label)\n",
    "predictions = clf.predict(test)\n",
    "print(predictions)\n",
    "print(np.bincount(predictions))\n",
    "\n",
    "test['predictions'] = \n",
    "l_data = _data.sort_values(by=['question_id','answer_score'], ascending=False)\n",
    "b_data[\"rank\"] = b_data.groupby(\"question_id\")[\"answer_score\"].rank(\"dense\", ascending=False)\n",
    "#test['pred'] = predictions\n",
    "\n",
    "#clf.score(test, test_label)"
   ]
  },
  {
   "cell_type": "code",
   "execution_count": null,
   "metadata": {},
   "outputs": [],
   "source": []
  }
 ],
 "metadata": {
  "kernelspec": {
   "display_name": "Python 3",
   "language": "python",
   "name": "python3"
  },
  "language_info": {
   "codemirror_mode": {
    "name": "ipython",
    "version": 3
   },
   "file_extension": ".py",
   "mimetype": "text/x-python",
   "name": "python",
   "nbconvert_exporter": "python",
   "pygments_lexer": "ipython3",
   "version": "3.7.3"
  }
 },
 "nbformat": 4,
 "nbformat_minor": 4
}
