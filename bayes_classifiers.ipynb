{
 "cells": [
  {
   "cell_type": "code",
   "execution_count": 7,
   "metadata": {},
   "outputs": [],
   "source": [
    "import pandas as pd\n",
    "import numpy as np\n",
    "from sklearn.naive_bayes import BernoulliNB\n",
    "from sklearn.model_selection import train_test_split"
   ]
  },
  {
   "cell_type": "code",
   "execution_count": 11,
   "metadata": {},
   "outputs": [
    {
     "data": {
      "text/plain": [
       "Index(['question_id', 'answer_id', 'a_score_rel_q_score', 'answer_score',\n",
       "       'entities_matches', 'reputation', 'reply_by_author', 'len_answer_text',\n",
       "       'is_accepted', 'code_snippet_count', 'link_count', 'Hedges',\n",
       "       'Positive.Emotion', 'Negative.Emotion', 'Impersonal.Pronoun',\n",
       "       'Swearing', 'Negation', 'Filler.Pause', 'Informal.Title',\n",
       "       'Formal.Title', 'Could.You', 'Can.You', 'By.The.Way', 'Let.Me.Know',\n",
       "       'Goodbye', 'For.Me', 'For.You', 'Reasoning', 'Reassurance',\n",
       "       'Ask.Agency', 'Give.Agency', 'Hello', 'Please', 'First.Person.Plural',\n",
       "       'First.Person.Single', 'Second.Person', 'Agreement', 'Acknowledgement',\n",
       "       'Subjectivity', 'Bare.Command', 'WH.Questions', 'YesNo.Questions',\n",
       "       'Gratitude', 'Apology', 'Truth.Intensifier', 'Affirmation',\n",
       "       'Adverb.Just', 'Conjunction.Start'],\n",
       "      dtype='object')"
      ]
     },
     "execution_count": 11,
     "metadata": {},
     "output_type": "execute_result"
    }
   ],
   "source": [
    "data = pd.read_csv(\"datasets/features_with_politeness.csv\", lineterminator='\\n', encoding=\"ISO-8859-1\")\n",
    "data.columns"
   ]
  },
  {
   "cell_type": "code",
   "execution_count": null,
   "metadata": {},
   "outputs": [],
   "source": []
  },
  {
   "cell_type": "code",
   "execution_count": 25,
   "metadata": {},
   "outputs": [
    {
     "name": "stdout",
     "output_type": "stream",
     "text": [
      "[8127 2360]\n",
      "[2064 2360]\n"
     ]
    },
    {
     "data": {
      "text/plain": [
       "0.735593220338983"
      ]
     },
     "execution_count": 25,
     "metadata": {},
     "output_type": "execute_result"
    }
   ],
   "source": [
    "target = data['is_accepted'].astype(int).to_numpy()\n",
    "print(np.bincount(target))\n",
    "# Drop non-discrete columns and convert columns\n",
    "b_data = data.copy()\n",
    "b_data['has_more_upvotes_than_ans'] = b_data['a_score_rel_q_score'].apply(lambda x: 0 if x < 0 else 1)\n",
    "b_data['has_entities_matches'] = b_data['entities_matches'].apply(lambda x: 0 if x == 0 else 1)\n",
    "b_data['link_count'] = b_data['link_count'].apply(lambda x: 0 if x == 0 else 1)\n",
    "b_data['code_snippet_count'] = b_data['code_snippet_count'].apply(lambda x: 0 if x == 0 else 1)\n",
    "b_data['reply_by_author'] = b_data[\"reply_by_author\"].astype(int)\n",
    "b_data.sort_values('is_accepted', inplace=True)\n",
    "#print(b_data.is_accepted)\n",
    "mask = (b_data.is_accepted == 0)\n",
    "#print(mask)\n",
    "idx, = np.where(mask)\n",
    "b_data = b_data.drop(b_data.index[idx[:len(idx)//2]])\n",
    "b_data = b_data.drop(b_data.index[0: 2000])\n",
    "target = b_data['is_accepted'].astype(int).to_numpy()\n",
    "print(np.bincount(b_data.is_accepted))\n",
    "b_data = b_data.drop(['is_accepted', 'question_id', 'answer_id', 'a_score_rel_q_score', \\\n",
    "                   'entities_matches', 'len_answer_text', 'reputation', 'answer_score'], axis=1).to_numpy()\n",
    "\n",
    "train, test, train_label, test_label = train_test_split(b_data, target, train_size=0.8)\n",
    "clf = BernoulliNB()\n",
    "clf.fit(train, train_label)\n",
    "predictions = clf.predict(test)\n",
    "#print(predictions)\n",
    "clf.score(test, test_label)\n"
   ]
  },
  {
   "cell_type": "code",
   "execution_count": null,
   "metadata": {},
   "outputs": [],
   "source": []
  }
 ],
 "metadata": {
  "kernelspec": {
   "display_name": "Python 3",
   "language": "python",
   "name": "python3"
  },
  "language_info": {
   "codemirror_mode": {
    "name": "ipython",
    "version": 3
   },
   "file_extension": ".py",
   "mimetype": "text/x-python",
   "name": "python",
   "nbconvert_exporter": "python",
   "pygments_lexer": "ipython3",
   "version": "3.7.3"
  }
 },
 "nbformat": 4,
 "nbformat_minor": 4
}
