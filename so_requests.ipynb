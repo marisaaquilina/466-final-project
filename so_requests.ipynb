{
  "nbformat": 4,
  "nbformat_minor": 0,
  "metadata": {
    "colab": {
      "name": "so-requests.ipynb",
      "provenance": []
    },
    "kernelspec": {
      "name": "python3",
      "display_name": "Python 3"
    },
    "language_info": {
      "name": "python"
    }
  },
  "cells": [
    {
      "cell_type": "code",
      "metadata": {
        "id": "K8EgsHxTINaK"
      },
      "source": [
        "import pandas as pd\n",
        "import time\n",
        "import requests\n",
        "from datetime import datetime"
      ],
      "execution_count": 1,
      "outputs": []
    },
    {
      "cell_type": "code",
      "metadata": {
        "id": "vexfhQEUIYyE"
      },
      "source": [
        "def getQuestions():\n",
        "    try:\n",
        "        question_cols = ['user_id', 'accepted_answer_id', 'answer_count', 'score', 'creation_date', 'question_id',\n",
        "                         'link', 'title']\n",
        "        answer_cols = ['question_id', 'answer_id', 'is_accepted', 'body', 'user_id', 'reputation', 'score']\n",
        "\n",
        "\n",
        "        question_rows = []\n",
        "        answer_rows = []\n",
        "\n",
        "        # Set up query parameters\n",
        "        page_num = \"1\"\n",
        "        key = \"\"\n",
        "        limit = 100\n",
        "\n",
        "        # filter for getting the body of an answer\n",
        "        filter = \"!9Qz3Xr)ML\"\n",
        "\n",
        "        # https://api.stackexchange.com/docs/questions fields used to formulate query string and filter arg\n",
        "        query = \"questions?page=\" + page_num + \"&pagesize=100&order=desc&sort=activity&site=stackoverflow&filter=!9Qz3Xf4W6&key=\" + \\\n",
        "            key\n",
        "\n",
        "        # Get JSON page response from request\n",
        "        res = requests.get(\"https://api.stackexchange.com/2.2/\" + query).json()\n",
        "\n",
        "\n",
        "\n",
        "        # Populate dataframe with question data\n",
        "        while int(page_num) < limit:\n",
        "            print(page_num)\n",
        "\n",
        "            if 'items' not in res:\n",
        "                questions_df = pd.DataFrame(question_rows)\n",
        "                answers_df = pd.DataFrame(answer_rows)\n",
        "                questions_df.to_csv('questions1.csv', index=False)\n",
        "                answers_df.to_csv('answers1.csv', index=False)\n",
        "                return\n",
        "\n",
        "            questions = {}\n",
        "            answers = {}\n",
        "            for q in res['items']:\n",
        "                if q['is_answered'] and 'accepted_answer_id' in q:\n",
        "                    if 'user_id' in q['owner']:\n",
        "                        questions['user_id'] = q['owner'].get('user_id')\n",
        "                    questions['accepted_answer_id'] = q['accepted_answer_id']\n",
        "                    questions['answer_count'] = q['answer_count']\n",
        "                    questions['score'] = q['score']\n",
        "                    questions['creation_date'] = datetime.utcfromtimestamp(q['creation_date']).strftime('%Y-%m-%d')\n",
        "                    questions['question_id'] = q['question_id']\n",
        "                    questions['link'] = q['link']\n",
        "                    questions['title'] = q['title']\n",
        "                    questions['body'] = q['body']\n",
        "                    question_rows.append(questions)\n",
        "\n",
        "                    print(q['question_id'])\n",
        "                    \n",
        "                    time.sleep(30)\n",
        "                    # Use the current question_id to get all of its answers\n",
        "                    query = \"questions/\" + str(q['question_id']) + \"/answers?order=desc&sort=activity&site=stackoverflow&filter=\" + filter + \"&key=\" + key\n",
        "\n",
        "                    res = requests.get(\"https://api.stackexchange.com/2.2/\" + query)\n",
        "                    \n",
        "                    if res is not None:\n",
        "                        res = res.json()\n",
        "                    else:\n",
        "                        questions_df = pd.DataFrame(question_rows)\n",
        "                        answers_df = pd.DataFrame(answer_rows)\n",
        "                        questions_df.to_csv('questions1.csv', index=False)\n",
        "                        answers_df.to_csv('answers1.csv', index=False)\n",
        "                        return\n",
        "\n",
        "                    if 'items' not in res:\n",
        "                        questions_df = pd.DataFrame(question_rows)\n",
        "                        answers_df = pd.DataFrame(answer_rows)\n",
        "                        questions_df.to_csv('questions1.csv', index=False)\n",
        "                        answers_df.to_csv('answers1.csv', index=False)\n",
        "                        return\n",
        "\n",
        "                    for a in res['items']:\n",
        "                        answers['question_id'] = a['question_id']\n",
        "                        answers['answer_id'] = a['answer_id']\n",
        "                        answers['is_accepted'] = a['is_accepted']\n",
        "                        answers['body'] = a['body']\n",
        "                        if 'user_id' in q['owner']:\n",
        "                            answers['user_id'] = a['owner'].get('user_id')\n",
        "                        answers['reputation'] = a['owner'].get('reputation')\n",
        "                        answers['score'] = a['score']\n",
        "                        answer_rows.append(answers)\n",
        "                        print(a['question_id'])\n",
        "                        answers = {}\n",
        "                        \n",
        "\n",
        "\n",
        "            page_num = str(int(page_num) + 1)\n",
        "            time.sleep(30)\n",
        "\n",
        "            query = \"questions?page=\" + str(\n",
        "                page_num) + \"&pagesize=100&order=asc&sort=creation&site=stackoverflow&filter=!9Qz3Xf4W6&key=\" + key\n",
        "\n",
        "            res = requests.get(\"https://api.stackexchange.com/2.2/\" + query)\n",
        "\n",
        "            if res is not None:\n",
        "                res = res.json()\n",
        "            else:\n",
        "                questions_df = pd.DataFrame(question_rows)\n",
        "                answers_df = pd.DataFrame(answer_rows)\n",
        "                questions_df.to_csv('questions1.csv', index=False)\n",
        "                answers_df.to_csv('answers1.csv', index=False)\n",
        "                return\n",
        "\n",
        "        questions_df = pd.DataFrame(question_rows)\n",
        "        answers_df = pd.DataFrame(answer_rows)\n",
        "        questions_df.to_csv('questions1.csv', index=False)\n",
        "        answers_df.to_csv('answers1.csv', index=False)\n",
        "    except:\n",
        "        questions_df = pd.DataFrame(question_rows)\n",
        "        answers_df = pd.DataFrame(answer_rows)\n",
        "        questions_df.to_csv('questions1.csv', index=False)\n",
        "        answers_df.to_csv('answers1.csv', index=False)"
      ],
      "execution_count": 2,
      "outputs": []
    },
    {
      "cell_type": "code",
      "metadata": {
        "colab": {
          "base_uri": "https://localhost:8080/"
        },
        "id": "SdYS2IslIvb_",
        "outputId": "26ccd9fa-6460-48c9-a013-296364db3402"
      },
      "source": [
        "getQuestions()"
      ],
      "execution_count": 3,
      "outputs": [
        {
          "output_type": "stream",
          "text": [
            "1\n",
            "67248055\n"
          ],
          "name": "stdout"
        }
      ]
    }
  ]
}