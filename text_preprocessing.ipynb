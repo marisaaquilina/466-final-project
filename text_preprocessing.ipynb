{
 "cells": [
  {
   "cell_type": "code",
   "execution_count": 1,
   "metadata": {},
   "outputs": [],
   "source": [
    "import pandas as pd\n",
    "import spacy\n",
    "import re\n",
    "nlp = spacy.load(\"en_core_web_sm\")"
   ]
  },
  {
   "cell_type": "markdown",
   "metadata": {},
   "source": [
    "## Preview data"
   ]
  },
  {
   "cell_type": "code",
   "execution_count": 3,
   "metadata": {},
   "outputs": [],
   "source": [
    "questions = pd.read_csv(\"datasets/questions.csv\", encoding=\"ISO-8859-1\")\n",
    "answers = pd.read_csv(\"datasets/answers.csv\", encoding=\"ISO-8859-1\")"
   ]
  },
  {
   "cell_type": "markdown",
   "metadata": {},
   "source": [
    "## Define SpaCy tokenizers and taggers"
   ]
  },
  {
   "cell_type": "code",
   "execution_count": 4,
   "metadata": {},
   "outputs": [],
   "source": [
    "def preprocess(text):\n",
    "    text = re.sub('<[^<]+?>|', '', text)\n",
    "    text = \" \".join(text.split())\n",
    "    return nlp(text)\n",
    "\n",
    "def get_tokens(doc):\n",
    "    return [token.text for token in doc]\n",
    "\n",
    "def get_entities(doc):\n",
    "    return [ent.text for ent in doc.ents]\n",
    "\n",
    "def get_entity_labels(doc):\n",
    "    return [ent.label_ for ent in doc.ents]"
   ]
  },
  {
   "cell_type": "markdown",
   "metadata": {},
   "source": [
    "## Apply SpaCy tokenizers and taggers"
   ]
  },
  {
   "cell_type": "code",
   "execution_count": 5,
   "metadata": {},
   "outputs": [],
   "source": [
    "questions['title_doc'] = questions['title'].apply(lambda text: preprocess(text))\n",
    "questions['body_doc'] = questions['body'].apply(lambda text: preprocess(text))\n",
    "\n",
    "questions['title_tokens'] = questions['title_doc'].apply(lambda doc: get_tokens(doc))\n",
    "questions['title_entities'] = questions['title_doc'].apply(lambda doc: get_entities(doc))\n",
    "questions['body_tokens'] = questions['body_doc'].apply(lambda doc: get_tokens(doc))\n",
    "questions['body_entities'] = questions['body_doc'].apply(lambda doc: get_entities(doc))"
   ]
  },
  {
   "cell_type": "code",
   "execution_count": null,
   "metadata": {},
   "outputs": [],
   "source": [
    "answers['body_doc'] = answers['body'].apply(lambda text: preprocess(text))\n",
    "\n",
    "answers['body_tokens'] = answers['body_doc'].apply(lambda doc: get_tokens(doc))\n",
    "answers['body_entities'] = answers['body_doc'].apply(lambda doc: get_entities(doc))"
   ]
  },
  {
   "cell_type": "markdown",
   "metadata": {},
   "source": [
    "## Preview freshly added SpaCy columns"
   ]
  },
  {
   "cell_type": "code",
   "execution_count": null,
   "metadata": {},
   "outputs": [],
   "source": [
    "question_cols = ['title_doc', 'body_doc', 'title_tokens', 'title_entities', 'body_tokens', 'body_entities']\n",
    "answer_cols = ['body_doc', 'body_tokens', 'body_entities']"
   ]
  },
  {
   "cell_type": "code",
   "execution_count": null,
   "metadata": {},
   "outputs": [],
   "source": [
    "questions[question_cols].head()"
   ]
  },
  {
   "cell_type": "code",
   "execution_count": null,
   "metadata": {},
   "outputs": [],
   "source": [
    "answers[answer_cols].head()"
   ]
  },
  {
   "cell_type": "markdown",
   "metadata": {},
   "source": [
    "## Save to CSV"
   ]
  },
  {
   "cell_type": "code",
   "execution_count": null,
   "metadata": {},
   "outputs": [],
   "source": [
    "questions.to_csv('datasets/tokenized_questions.csv')\n",
    "answers.to_csv('datasets/tokenized_answers.csv')"
   ]
  }
 ],
 "metadata": {
  "kernelspec": {
   "display_name": "Python 3",
   "language": "python",
   "name": "python3"
  },
  "language_info": {
   "codemirror_mode": {
    "name": "ipython",
    "version": 3
   },
   "file_extension": ".py",
   "mimetype": "text/x-python",
   "name": "python",
   "nbconvert_exporter": "python",
   "pygments_lexer": "ipython3",
   "version": "3.8.5"
  }
 },
 "nbformat": 4,
 "nbformat_minor": 4
}
