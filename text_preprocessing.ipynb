{
 "cells": [
  {
   "cell_type": "code",
   "execution_count": 1,
   "metadata": {},
   "outputs": [
    {
     "ename": "ModuleNotFoundError",
     "evalue": "No module named 'spacy'",
     "output_type": "error",
     "traceback": [
      "\u001b[0;31m---------------------------------------------------------------------------\u001b[0m",
      "\u001b[0;31mModuleNotFoundError\u001b[0m                       Traceback (most recent call last)",
      "\u001b[0;32m<ipython-input-1-43084ca17abb>\u001b[0m in \u001b[0;36m<module>\u001b[0;34m\u001b[0m\n\u001b[1;32m      1\u001b[0m \u001b[0;32mimport\u001b[0m \u001b[0mpandas\u001b[0m \u001b[0;32mas\u001b[0m \u001b[0mpd\u001b[0m\u001b[0;34m\u001b[0m\u001b[0;34m\u001b[0m\u001b[0m\n\u001b[0;32m----> 2\u001b[0;31m \u001b[0;32mimport\u001b[0m \u001b[0mspacy\u001b[0m\u001b[0;34m\u001b[0m\u001b[0;34m\u001b[0m\u001b[0m\n\u001b[0m\u001b[1;32m      3\u001b[0m \u001b[0;32mimport\u001b[0m \u001b[0mre\u001b[0m\u001b[0;34m\u001b[0m\u001b[0;34m\u001b[0m\u001b[0m\n\u001b[1;32m      4\u001b[0m \u001b[0mnlp\u001b[0m \u001b[0;34m=\u001b[0m \u001b[0mspacy\u001b[0m\u001b[0;34m.\u001b[0m\u001b[0mload\u001b[0m\u001b[0;34m(\u001b[0m\u001b[0;34m\"en_core_web_sm\"\u001b[0m\u001b[0;34m)\u001b[0m\u001b[0;34m\u001b[0m\u001b[0;34m\u001b[0m\u001b[0m\n",
      "\u001b[0;31mModuleNotFoundError\u001b[0m: No module named 'spacy'"
     ]
    }
   ],
   "source": [
    "import pandas as pd\n",
    "import spacy\n",
    "import re\n",
    "nlp = spacy.load(\"en_core_web_sm\")"
   ]
  },
  {
   "cell_type": "markdown",
   "metadata": {},
   "source": [
    "## Preview data"
   ]
  },
  {
   "cell_type": "code",
<<<<<<< HEAD
   "execution_count": null,
=======
   "execution_count": 3,
>>>>>>> 88512a3a901061cec7e18241791f7a9a5917ee3e
   "metadata": {},
   "outputs": [],
   "source": [
    "questions = pd.read_csv(\"datasets/questions.csv\", encoding=\"ISO-8859-1\")\n",
    "answers = pd.read_csv(\"datasets/answers.csv\", encoding=\"ISO-8859-1\")"
   ]
  },
  {
   "cell_type": "markdown",
   "metadata": {},
   "source": [
    "## Define SpaCy tokenizers and taggers"
   ]
  },
  {
   "cell_type": "code",
   "execution_count": 4,
   "metadata": {},
   "outputs": [],
   "source": [
    "def preprocess(text):\n",
    "    text = re.sub('<[^<]+?>|', '', text)\n",
    "    text = \" \".join(text.split())\n",
    "    return nlp(text)\n",
    "\n",
    "def get_tokens(doc):\n",
    "    return [token.text for token in doc]\n",
    "\n",
    "def get_entities(doc):\n",
    "    return [ent.text for ent in doc.ents]\n",
    "\n",
    "def get_entity_labels(doc):\n",
    "    return [ent.label_ for ent in doc.ents]"
   ]
  },
  {
   "cell_type": "markdown",
   "metadata": {},
   "source": [
    "## Apply SpaCy tokenizers and taggers"
   ]
  },
  {
   "cell_type": "code",
   "execution_count": 5,
   "metadata": {},
   "outputs": [],
   "source": [
    "questions['title_doc'] = questions['title'].apply(lambda text: preprocess(text))\n",
    "questions['body_doc'] = questions['body'].apply(lambda text: preprocess(text))\n",
    "\n",
    "questions['title_tokens'] = questions['title_doc'].apply(lambda doc: get_tokens(doc))\n",
    "questions['title_entities'] = questions['title_doc'].apply(lambda doc: get_entities(doc))\n",
    "questions['body_tokens'] = questions['body_doc'].apply(lambda doc: get_tokens(doc))\n",
    "questions['body_entities'] = questions['body_doc'].apply(lambda doc: get_entities(doc))"
   ]
  },
  {
   "cell_type": "code",
   "execution_count": null,
   "metadata": {},
   "outputs": [],
   "source": [
    "answers['body_doc'] = answers['body'].apply(lambda text: preprocess(text))\n",
    "\n",
    "answers['body_tokens'] = answers['body_doc'].apply(lambda doc: get_tokens(doc))\n",
    "answers['body_entities'] = answers['body_doc'].apply(lambda doc: get_entities(doc))"
   ]
  },
  {
   "cell_type": "markdown",
   "metadata": {},
   "source": [
    "## Preview freshly added SpaCy columns"
   ]
  },
  {
   "cell_type": "code",
   "execution_count": null,
   "metadata": {},
   "outputs": [],
   "source": [
    "question_cols = ['title_doc', 'body_doc', 'title_tokens', 'title_entities', 'body_tokens', 'body_entities']\n",
    "answer_cols = ['body_doc', 'body_tokens', 'body_entities']"
   ]
  },
  {
   "cell_type": "code",
   "execution_count": null,
   "metadata": {},
   "outputs": [],
   "source": [
    "questions[question_cols].head()"
   ]
  },
  {
   "cell_type": "code",
   "execution_count": null,
   "metadata": {},
   "outputs": [],
   "source": [
    "answers[answer_cols].head()"
   ]
  },
  {
   "cell_type": "code",
   "execution_count": null,
   "metadata": {},
   "outputs": [],
   "source": [
    "questions = questions.rename(columns={'user_id': 'question_user_id', 'score': 'question_score', 'body': 'question_body', 'body_doc': 'question_body_doc', 'body_tokens': 'question_body_token', 'body_entities': 'question_body_entities'})\n",
    "answers = answers.rename(columns={'user_id': 'answer_user_id', 'score': 'answer_score', 'body': 'answer_body', 'body_doc': 'answer_body_doc', 'body_tokens': 'answer_body_token', 'body_entities': 'answer_body_entities'})"
   ]
  },
  {
   "cell_type": "code",
   "execution_count": null,
   "metadata": {},
   "outputs": [],
   "source": [
    "result = pd.merge(questions, answers, on=[\"question_id\"]).drop(columns=['Unnamed: 0_x', 'Unnamed: 0_y'])\n",
    "result.head()"
   ]
  },
  {
   "cell_type": "code",
   "execution_count": null,
   "metadata": {},
   "outputs": [],
   "source": [
    "result.to_csv('datasets/questions_answers_combined.csv')"
   ]
  }
 ],
 "metadata": {
  "kernelspec": {
   "display_name": "Python 3",
   "language": "python",
   "name": "python3"
  }
 },
 "nbformat": 4,
 "nbformat_minor": 4
}
