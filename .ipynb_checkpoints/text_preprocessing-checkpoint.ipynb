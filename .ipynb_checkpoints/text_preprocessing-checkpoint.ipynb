{
 "cells": [
  {
   "cell_type": "code",
   "execution_count": 1,
   "metadata": {},
   "outputs": [
    {
     "ename": "ModuleNotFoundError",
     "evalue": "No module named 'spacy'",
     "output_type": "error",
     "traceback": [
      "\u001b[0;31m---------------------------------------------------------------------------\u001b[0m",
      "\u001b[0;31mModuleNotFoundError\u001b[0m                       Traceback (most recent call last)",
      "\u001b[0;32m<ipython-input-1-43084ca17abb>\u001b[0m in \u001b[0;36m<module>\u001b[0;34m\u001b[0m\n\u001b[1;32m      1\u001b[0m \u001b[0;32mimport\u001b[0m \u001b[0mpandas\u001b[0m \u001b[0;32mas\u001b[0m \u001b[0mpd\u001b[0m\u001b[0;34m\u001b[0m\u001b[0;34m\u001b[0m\u001b[0m\n\u001b[0;32m----> 2\u001b[0;31m \u001b[0;32mimport\u001b[0m \u001b[0mspacy\u001b[0m\u001b[0;34m\u001b[0m\u001b[0;34m\u001b[0m\u001b[0m\n\u001b[0m\u001b[1;32m      3\u001b[0m \u001b[0;32mimport\u001b[0m \u001b[0mre\u001b[0m\u001b[0;34m\u001b[0m\u001b[0;34m\u001b[0m\u001b[0m\n\u001b[1;32m      4\u001b[0m \u001b[0mnlp\u001b[0m \u001b[0;34m=\u001b[0m \u001b[0mspacy\u001b[0m\u001b[0;34m.\u001b[0m\u001b[0mload\u001b[0m\u001b[0;34m(\u001b[0m\u001b[0;34m\"en_core_web_sm\"\u001b[0m\u001b[0;34m)\u001b[0m\u001b[0;34m\u001b[0m\u001b[0;34m\u001b[0m\u001b[0m\n",
      "\u001b[0;31mModuleNotFoundError\u001b[0m: No module named 'spacy'"
     ]
    }
   ],
   "source": [
    "import pandas as pd\n",
    "import spacy\n",
    "import re\n",
    "nlp = spacy.load(\"en_core_web_sm\")"
   ]
  },
  {
   "cell_type": "markdown",
   "metadata": {},
   "source": [
    "## Preview data"
   ]
  },
  {
   "cell_type": "code",
   "execution_count": null,
   "metadata": {},
   "outputs": [],
   "source": [
    "questions = pd.read_csv(\"datasets/questions.csv\")\n",
    "answers = pd.read_csv(\"datasets/answers.csv\", encoding=\"ISO-8859-1\")"
   ]
  },
  {
   "cell_type": "markdown",
   "metadata": {},
   "source": [
    "## Define SpaCy tokenizers and taggers"
   ]
  },
  {
   "cell_type": "code",
   "execution_count": 5,
   "metadata": {},
   "outputs": [],
   "source": [
    "def preprocess(text):\n",
    "    text = re.sub('<[^<]+?>|', '', text)\n",
    "    text = \" \".join(text.split())\n",
    "    return nlp(text)\n",
    "\n",
    "def get_tokens(doc):\n",
    "    return [token.text for token in doc]\n",
    "\n",
    "def get_entities(doc):\n",
    "    return [ent.text for ent in doc.ents]\n",
    "\n",
    "def get_entity_labels(doc):\n",
    "    return [ent.label_ for ent in doc.ents]"
   ]
  },
  {
   "cell_type": "markdown",
   "metadata": {},
   "source": [
    "## Apply SpaCy tokenizers and taggers"
   ]
  },
  {
   "cell_type": "code",
   "execution_count": 6,
   "metadata": {},
   "outputs": [],
   "source": [
    "questions['title_doc'] = questions['title'].apply(lambda text: preprocess(text))\n",
    "questions['body_doc'] = questions['body'].apply(lambda text: preprocess(text))\n",
    "\n",
    "questions['title_tokens'] = questions['title_doc'].apply(lambda doc: get_tokens(doc))\n",
    "questions['title_entities'] = questions['title_doc'].apply(lambda doc: get_entities(doc))\n",
    "questions['body_tokens'] = questions['body_doc'].apply(lambda doc: get_tokens(doc))\n",
    "questions['body_entities'] = questions['body_doc'].apply(lambda doc: get_entities(doc))"
   ]
  },
  {
   "cell_type": "code",
   "execution_count": 7,
   "metadata": {},
   "outputs": [],
   "source": [
    "answers['body_doc'] = answers['body'].apply(lambda text: preprocess(text))\n",
    "\n",
    "answers['body_tokens'] = answers['body_doc'].apply(lambda doc: get_tokens(doc))\n",
    "answers['body_entities'] = answers['body_doc'].apply(lambda doc: get_entities(doc))"
   ]
  },
  {
   "cell_type": "markdown",
   "metadata": {},
   "source": [
    "## Preview freshly added SpaCy columns"
   ]
  },
  {
   "cell_type": "code",
   "execution_count": 12,
   "metadata": {},
   "outputs": [],
   "source": [
    "question_cols = ['title_doc', 'body_doc', 'title_tokens', 'title_entities', 'body_tokens', 'body_entities']\n",
    "answer_cols = ['body_doc', 'body_tokens', 'body_entities']"
   ]
  },
  {
   "cell_type": "code",
   "execution_count": 13,
   "metadata": {},
   "outputs": [
    {
     "data": {
      "text/html": [
       "<div>\n",
       "<style scoped>\n",
       "    .dataframe tbody tr th:only-of-type {\n",
       "        vertical-align: middle;\n",
       "    }\n",
       "\n",
       "    .dataframe tbody tr th {\n",
       "        vertical-align: top;\n",
       "    }\n",
       "\n",
       "    .dataframe thead th {\n",
       "        text-align: right;\n",
       "    }\n",
       "</style>\n",
       "<table border=\"1\" class=\"dataframe\">\n",
       "  <thead>\n",
       "    <tr style=\"text-align: right;\">\n",
       "      <th></th>\n",
       "      <th>title_doc</th>\n",
       "      <th>body_doc</th>\n",
       "      <th>title_tokens</th>\n",
       "      <th>title_entities</th>\n",
       "      <th>body_tokens</th>\n",
       "      <th>body_entities</th>\n",
       "    </tr>\n",
       "  </thead>\n",
       "  <tbody>\n",
       "    <tr>\n",
       "      <th>0</th>\n",
       "      <td>(PHP, includes, vs, OOP)</td>\n",
       "      <td>(I, would, like, to, have, a, reference, for, ...</td>\n",
       "      <td>[PHP, includes, vs, OOP]</td>\n",
       "      <td>[PHP]</td>\n",
       "      <td>[I, would, like, to, have, a, reference, for, ...</td>\n",
       "      <td>[PHP, one, A Simple Example: Certain pages on,...</td>\n",
       "    </tr>\n",
       "    <tr>\n",
       "      <th>1</th>\n",
       "      <td>(WYSIWYG, editor, gem, for, Rails, ?)</td>\n",
       "      <td>(Is, there, a, good, ruby, gem, for, a, WYSIWY...</td>\n",
       "      <td>[WYSIWYG, editor, gem, for, Rails, ?]</td>\n",
       "      <td>[WYSIWYG]</td>\n",
       "      <td>[Is, there, a, good, ruby, gem, for, a, WYSIWY...</td>\n",
       "      <td>[WYSIWYG]</td>\n",
       "    </tr>\n",
       "    <tr>\n",
       "      <th>2</th>\n",
       "      <td>(How, do, you, automate, a, Visual, Studio, bu...</td>\n",
       "      <td>(How, do, you, turn, a, Visual, Studio, build,...</td>\n",
       "      <td>[How, do, you, automate, a, Visual, Studio, bu...</td>\n",
       "      <td>[Visual Studio]</td>\n",
       "      <td>[How, do, you, turn, a, Visual, Studio, build,...</td>\n",
       "      <td>[IDE]</td>\n",
       "    </tr>\n",
       "    <tr>\n",
       "      <th>3</th>\n",
       "      <td>(Code, Classic, ASP, in, Linux)</td>\n",
       "      <td>(What, should, i, use, to, code, Classic, ASP,...</td>\n",
       "      <td>[Code, Classic, ASP, in, Linux]</td>\n",
       "      <td>[Classic ASP, Linux]</td>\n",
       "      <td>[What, should, i, use, to, code, Classic, ASP,...</td>\n",
       "      <td>[Classic ASP, Linux, Emacs, Vim, Code Browser]</td>\n",
       "    </tr>\n",
       "    <tr>\n",
       "      <th>4</th>\n",
       "      <td>(What, are, the, pros, and, cons, of, the, ass...</td>\n",
       "      <td>(I, am, considering, creating, my, own, websit...</td>\n",
       "      <td>[What, are, the, pros, and, cons, of, the, ass...</td>\n",
       "      <td>[]</td>\n",
       "      <td>[I, am, considering, creating, my, own, websit...</td>\n",
       "      <td>[Java, Java, more than 50, one, Java]</td>\n",
       "    </tr>\n",
       "  </tbody>\n",
       "</table>\n",
       "</div>"
      ],
      "text/plain": [
       "                                           title_doc  \\\n",
       "0                           (PHP, includes, vs, OOP)   \n",
       "1              (WYSIWYG, editor, gem, for, Rails, ?)   \n",
       "2  (How, do, you, automate, a, Visual, Studio, bu...   \n",
       "3                    (Code, Classic, ASP, in, Linux)   \n",
       "4  (What, are, the, pros, and, cons, of, the, ass...   \n",
       "\n",
       "                                            body_doc  \\\n",
       "0  (I, would, like, to, have, a, reference, for, ...   \n",
       "1  (Is, there, a, good, ruby, gem, for, a, WYSIWY...   \n",
       "2  (How, do, you, turn, a, Visual, Studio, build,...   \n",
       "3  (What, should, i, use, to, code, Classic, ASP,...   \n",
       "4  (I, am, considering, creating, my, own, websit...   \n",
       "\n",
       "                                        title_tokens        title_entities  \\\n",
       "0                           [PHP, includes, vs, OOP]                 [PHP]   \n",
       "1              [WYSIWYG, editor, gem, for, Rails, ?]             [WYSIWYG]   \n",
       "2  [How, do, you, automate, a, Visual, Studio, bu...       [Visual Studio]   \n",
       "3                    [Code, Classic, ASP, in, Linux]  [Classic ASP, Linux]   \n",
       "4  [What, are, the, pros, and, cons, of, the, ass...                    []   \n",
       "\n",
       "                                         body_tokens  \\\n",
       "0  [I, would, like, to, have, a, reference, for, ...   \n",
       "1  [Is, there, a, good, ruby, gem, for, a, WYSIWY...   \n",
       "2  [How, do, you, turn, a, Visual, Studio, build,...   \n",
       "3  [What, should, i, use, to, code, Classic, ASP,...   \n",
       "4  [I, am, considering, creating, my, own, websit...   \n",
       "\n",
       "                                       body_entities  \n",
       "0  [PHP, one, A Simple Example: Certain pages on,...  \n",
       "1                                          [WYSIWYG]  \n",
       "2                                              [IDE]  \n",
       "3     [Classic ASP, Linux, Emacs, Vim, Code Browser]  \n",
       "4              [Java, Java, more than 50, one, Java]  "
      ]
     },
     "execution_count": 13,
     "metadata": {},
     "output_type": "execute_result"
    }
   ],
   "source": [
    "questions[question_cols].head()"
   ]
  },
  {
   "cell_type": "code",
   "execution_count": 10,
   "metadata": {},
   "outputs": [
    {
     "data": {
      "text/html": [
       "<div>\n",
       "<style scoped>\n",
       "    .dataframe tbody tr th:only-of-type {\n",
       "        vertical-align: middle;\n",
       "    }\n",
       "\n",
       "    .dataframe tbody tr th {\n",
       "        vertical-align: top;\n",
       "    }\n",
       "\n",
       "    .dataframe thead th {\n",
       "        text-align: right;\n",
       "    }\n",
       "</style>\n",
       "<table border=\"1\" class=\"dataframe\">\n",
       "  <thead>\n",
       "    <tr style=\"text-align: right;\">\n",
       "      <th></th>\n",
       "      <th>body_doc</th>\n",
       "      <th>body_tokens</th>\n",
       "      <th>body_entities</th>\n",
       "    </tr>\n",
       "  </thead>\n",
       "  <tbody>\n",
       "    <tr>\n",
       "      <th>0</th>\n",
       "      <td>(If, there, are, multiple, records, for, given...</td>\n",
       "      <td>[If, there, are, multiple, records, for, given...</td>\n",
       "      <td>[this[&amp;quot;reportKey&amp;quot, reportKey.toUpperC...</td>\n",
       "    </tr>\n",
       "    <tr>\n",
       "      <th>1</th>\n",
       "      <td>(If, you, end, up, here, because, you, Googled...</td>\n",
       "      <td>[If, you, end, up, here, because, you, Googled...</td>\n",
       "      <td>[two frustrating hours]</td>\n",
       "    </tr>\n",
       "    <tr>\n",
       "      <th>2</th>\n",
       "      <td>(It, seems, to, be, an, SDL, issue, ., Here, i...</td>\n",
       "      <td>[It, seems, to, be, an, SDL, issue, ., Here, i...</td>\n",
       "      <td>[SDL, SDL, SDL]</td>\n",
       "    </tr>\n",
       "    <tr>\n",
       "      <th>3</th>\n",
       "      <td>(This, could, be, an, installation, and, setup...</td>\n",
       "      <td>[This, could, be, an, installation, and, setup...</td>\n",
       "      <td>[Files\\Java\\jdk1.8.0_291&amp;quot, Files\\Java\\jre1...</td>\n",
       "    </tr>\n",
       "    <tr>\n",
       "      <th>4</th>\n",
       "      <td>(As, per, java, command, line, documentation, ...</td>\n",
       "      <td>[As, per, java, command, line, documentation, ...</td>\n",
       "      <td>[JAR]</td>\n",
       "    </tr>\n",
       "  </tbody>\n",
       "</table>\n",
       "</div>"
      ],
      "text/plain": [
       "                                            body_doc  \\\n",
       "0  (If, there, are, multiple, records, for, given...   \n",
       "1  (If, you, end, up, here, because, you, Googled...   \n",
       "2  (It, seems, to, be, an, SDL, issue, ., Here, i...   \n",
       "3  (This, could, be, an, installation, and, setup...   \n",
       "4  (As, per, java, command, line, documentation, ...   \n",
       "\n",
       "                                         body_tokens  \\\n",
       "0  [If, there, are, multiple, records, for, given...   \n",
       "1  [If, you, end, up, here, because, you, Googled...   \n",
       "2  [It, seems, to, be, an, SDL, issue, ., Here, i...   \n",
       "3  [This, could, be, an, installation, and, setup...   \n",
       "4  [As, per, java, command, line, documentation, ...   \n",
       "\n",
       "                                       body_entities  \n",
       "0  [this[&quot;reportKey&quot, reportKey.toUpperC...  \n",
       "1                            [two frustrating hours]  \n",
       "2                                    [SDL, SDL, SDL]  \n",
       "3  [Files\\Java\\jdk1.8.0_291&quot, Files\\Java\\jre1...  \n",
       "4                                              [JAR]  "
      ]
     },
     "execution_count": 10,
     "metadata": {},
     "output_type": "execute_result"
    }
   ],
   "source": [
    "answers[answer_cols].head()"
   ]
  },
  {
   "cell_type": "markdown",
   "metadata": {},
   "source": [
    "## Save to CSV"
   ]
  },
  {
   "cell_type": "code",
   "execution_count": 17,
   "metadata": {},
   "outputs": [],
   "source": [
    "questions.to_csv('datasets/tokenized_questions.csv')\n",
    "answers.to_csv('datasets/tokenized_answers.csv')"
   ]
  },
  {
   "cell_type": "code",
   "execution_count": null,
   "metadata": {},
   "outputs": [],
   "source": [
    "questions = pd.read_csv(\"datasets/tokenized_questions.csv\")\n",
    "answers = pd.read_csv(\"datasets/tokenized_answers.csv\", lineterminator='\\n', encoding=\"ISO-8859-1\")"
   ]
  },
  {
   "cell_type": "code",
   "execution_count": null,
   "metadata": {},
   "outputs": [],
   "source": [
    "questions = questions.rename(columns={'user_id': 'question_user_id', 'score': 'question_score', 'body': 'question_body', 'body_doc': 'question_body_doc', 'body_tokens': 'question_body_token', 'body_entities': 'question_body_entities'})\n",
    "answers = answers.rename(columns={'user_id': 'answer_user_id', 'score': 'answer_score', 'body': 'answer_body', 'body_doc': 'answer_body_doc', 'body_tokens': 'answer_body_token', 'body_entities': 'answer_body_entities'})"
   ]
  },
  {
   "cell_type": "code",
   "execution_count": null,
   "metadata": {},
   "outputs": [],
   "source": [
    "result = pd.merge(questions, answers, on=[\"question_id\"]).drop(columns=['Unnamed: 0_x', 'Unnamed: 0_y'])\n",
    "result.head()"
   ]
  },
  {
   "cell_type": "code",
   "execution_count": null,
   "metadata": {},
   "outputs": [],
   "source": [
    "result.to_csv('datasets/questions_answers_combined.csv')"
   ]
  }
 ],
 "metadata": {
  "kernelspec": {
   "display_name": "Python 3",
   "language": "python",
   "name": "python3"
  }
 },
 "nbformat": 4,
 "nbformat_minor": 4
}
