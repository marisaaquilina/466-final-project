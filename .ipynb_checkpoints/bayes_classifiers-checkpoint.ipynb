{
 "cells": [
  {
   "cell_type": "code",
   "execution_count": 83,
   "metadata": {},
   "outputs": [],
   "source": [
    "import pandas as pd\n",
    "import numpy as np\n",
    "from sklearn.naive_bayes import BernoulliNB\n",
    "from sklearn.model_selection import train_test_split\n",
    "from sklearn.metrics import classification_report\n",
    "from sklearn.linear_model import LogisticRegression"
   ]
  },
  {
   "cell_type": "code",
   "execution_count": 89,
   "metadata": {},
   "outputs": [
    {
     "name": "stdout",
     "output_type": "stream",
     "text": [
      "10487\n"
     ]
    },
    {
     "data": {
      "text/plain": [
       "Index(['question_id', 'answer_id', 'a_score_rel_q_score', 'answer_score',\n",
       "       'entities_matches', 'reputation', 'reply_by_author', 'len_answer_text',\n",
       "       'is_accepted', 'code_snippet_count', 'link_count', 'Hedges',\n",
       "       'Positive.Emotion', 'Negative.Emotion', 'Impersonal.Pronoun',\n",
       "       'Swearing', 'Negation', 'Filler.Pause', 'Informal.Title',\n",
       "       'Formal.Title', 'Could.You', 'Can.You', 'By.The.Way', 'Let.Me.Know',\n",
       "       'Goodbye', 'For.Me', 'For.You', 'Reasoning', 'Reassurance',\n",
       "       'Ask.Agency', 'Give.Agency', 'Hello', 'Please', 'First.Person.Plural',\n",
       "       'First.Person.Single', 'Second.Person', 'Agreement', 'Acknowledgement',\n",
       "       'Subjectivity', 'Bare.Command', 'WH.Questions', 'YesNo.Questions',\n",
       "       'Gratitude', 'Apology', 'Truth.Intensifier', 'Affirmation',\n",
       "       'Adverb.Just', 'Conjunction.Start'],\n",
       "      dtype='object')"
      ]
     },
     "execution_count": 89,
     "metadata": {},
     "output_type": "execute_result"
    }
   ],
   "source": [
    "data = pd.read_csv(\"datasets/features_with_politeness.csv\", lineterminator='\\n', encoding=\"ISO-8859-1\")\n",
    "print(len(data))\n",
    "data.columns"
   ]
  },
  {
   "cell_type": "code",
   "execution_count": 92,
   "metadata": {},
   "outputs": [
    {
     "name": "stdout",
     "output_type": "stream",
     "text": [
      "7467\n"
     ]
    }
   ],
   "source": [
    "b_data = data.copy()\n",
    "b_data = b_data.sort_values(by=['question_id','answer_score'], ascending=False)\n",
    "b_data[\"rank\"] = b_data.groupby(\"question_id\")[\"answer_score\"].rank(\"dense\", ascending=False)\n",
    "print(max(b_data['answer_score']))"
   ]
  },
  {
   "cell_type": "code",
   "execution_count": null,
   "metadata": {},
   "outputs": [],
   "source": []
  },
  {
   "cell_type": "code",
   "execution_count": 93,
   "metadata": {},
   "outputs": [
    {
     "name": "stdout",
     "output_type": "stream",
     "text": [
      "(0, 2]        3336\n",
      "(-20, 0]      2652\n",
      "(2, 5]        2018\n",
      "(10, 50]      1118\n",
      "(5, 10]       1029\n",
      "(50, 7500]     334\n",
      "Name: answer_score, dtype: int64\n",
      "1574      (0, 2]\n",
      "1547    (-20, 0]\n",
      "1343    (-20, 0]\n",
      "1150      (2, 5]\n",
      "1149    (-20, 0]\n",
      "          ...   \n",
      "783     (-20, 0]\n",
      "774       (2, 5]\n",
      "775       (2, 5]\n",
      "772       (0, 2]\n",
      "773       (0, 2]\n",
      "Name: answer_score, Length: 10487, dtype: category\n",
      "Categories (6, interval[int64]): [(-20, 0] < (0, 2] < (2, 5] < (5, 10] < (10, 50] < (50, 7500]]\n",
      "1574    1\n",
      "1547    0\n",
      "1343    0\n",
      "1150    2\n",
      "1149    0\n",
      "       ..\n",
      "783     0\n",
      "774     2\n",
      "775     2\n",
      "772     1\n",
      "773     1\n",
      "Name: answer_score, Length: 10487, dtype: int8\n",
      "[1 0 1 ... 1 1 1]\n",
      "[ 744 1311   35    0    6]\n"
     ]
    }
   ],
   "source": [
    "#b_data['is_accepted'] = b_data['is_accepted'].astype(int).to_numpy()\n",
    "#print(np.bincount(target))\n",
    "# Drop non-discrete columns and convert columns\n",
    "\n",
    "\n",
    "to_binary_cols = ['Hedges', 'Positive.Emotion', 'Negative.Emotion',\n",
    "       'Impersonal.Pronoun', 'Swearing', 'Negation', 'Filler.Pause',\n",
    "       'Informal.Title', 'Formal.Title', 'Could.You', 'Can.You', 'By.The.Way',\n",
    "       'Let.Me.Know', 'Goodbye', 'For.Me', 'For.You', 'Reasoning',\n",
    "       'Reassurance', 'Ask.Agency', 'Give.Agency', 'Hello', 'Please',\n",
    "       'First.Person.Plural', 'First.Person.Single', 'Second.Person',\n",
    "       'Agreement', 'Acknowledgement', 'Subjectivity', 'Bare.Command',\n",
    "       'WH.Questions', 'YesNo.Questions', 'Gratitude', 'Apology',\n",
    "       'Truth.Intensifier', 'Affirmation', 'Adverb.Just', 'Conjunction.Start', \n",
    "        'code_snippet_count', 'link_count', 'entities_matches']\n",
    "\n",
    "for col in to_binary_cols:\n",
    "    b_data[col] = b_data[col].apply(lambda x: 0 if x == 0 else 1)\n",
    "    \n",
    "#b_data['rank_score'] = b_data['rank'].apply(lambda x: 0 if x > 2 else 1)\n",
    "b_data['has_more_upvotes_than_ans'] = b_data['a_score_rel_q_score'].apply(lambda x: 0 if x < 0 else 1)\n",
    "b_data['reply_by_author'] = b_data[\"reply_by_author\"].astype(int)\n",
    "\n",
    "bins = [-20, -5, -4, 0, 2, 5, 10, 50, 7500]\n",
    "target,width_bins = pd.cut(b_data['answer_score'], bins, retbins=True, duplicates='drop')\n",
    "#print(width_bins)\n",
    "width_binned_counts = width_binned.value_counts()\n",
    "print(width_binned_counts)\n",
    "print(target)\n",
    "b_data['answer_score'] = target.cat.codes\n",
    "print(b_data['answer_score'])\n",
    "\n",
    "b_data = b_data.drop(['question_id', 'answer_id', 'a_score_rel_q_score', \\\n",
    "                   'entities_matches', 'len_answer_text', 'reputation', \n",
    "                    'Impersonal.Pronoun', 'Swearing','Filler.Pause', 'Informal.Title',\n",
    "       'Formal.Title', 'Could.You', 'Can.You', 'By.The.Way', 'Let.Me.Know',\n",
    "       'Goodbye', 'For.Me', 'For.You', 'Reasoning', 'Reassurance',\n",
    "       'Ask.Agency', 'Give.Agency', 'Hello', 'Please', 'First.Person.Plural',\n",
    "       'First.Person.Single', 'Second.Person', 'Adverb.Just', 'Conjunction.Start',\n",
    "                    'Agreement', 'Acknowledgement',\n",
    "       'Subjectivity', 'Bare.Command', 'WH.Questions', 'YesNo.Questions',\n",
    "       'Gratitude', 'Apology', 'Truth.Intensifier', 'Hedges', 'is_accepted'], axis=1)\n",
    "test = b_data.iloc[b_data.index[0:2096]]\n",
    "\n",
    "test_label = test['answer_score']\n",
    "test_rank = test['rank']\n",
    "test = test.drop(['rank','answer_score'], axis=1).to_numpy()\n",
    "train = b_data.iloc[b_data.index[2096:]]\n",
    "train_label = train['answer_score']\n",
    "train = train.drop(['rank','answer_score'], axis=1).to_numpy()\n",
    "\n",
    "clf = BernoulliNB()\n",
    "clf.fit(train, train_label)\n",
    "predictions = clf.predict(test)\n",
    "print(predictions)\n",
    "\n",
    "#test['pred'] = predictions\n",
    "print(np.bincount(predictions))\n",
    "#clf.score(test, test_label)\n",
    "\n",
    "#print(classification_report(list(test_label), list(predictions)))\n",
    "\n",
    "#top_two_pred = \n"
   ]
  },
  {
   "cell_type": "code",
   "execution_count": 88,
   "metadata": {},
   "outputs": [
    {
     "name": "stdout",
     "output_type": "stream",
     "text": [
      "[1 0 1 ... 0 1 1]\n",
      "[1014 1049   26    0    7]\n"
     ]
    }
   ],
   "source": [
    "clf = LogisticRegression(multi_class='multinomial',solver ='newton-cg').fit(train,train_label)\n",
    "predictions = clf.predict(test)\n",
    "print(predictions)\n",
    "print(np.bincount(predictions))\n",
    "\n",
    "test['predictions'] = \n",
    "l_data = _data.sort_values(by=['question_id','answer_score'], ascending=False)\n",
    "b_data[\"rank\"] = b_data.groupby(\"question_id\")[\"answer_score\"].rank(\"dense\", ascending=False)\n",
    "#test['pred'] = predictions\n",
    "\n",
    "#clf.score(test, test_label)"
   ]
  },
  {
   "cell_type": "code",
   "execution_count": null,
   "metadata": {},
   "outputs": [],
   "source": []
  }
 ],
 "metadata": {
  "kernelspec": {
   "display_name": "Python 3",
   "language": "python",
   "name": "python3"
  },
  "language_info": {
   "codemirror_mode": {
    "name": "ipython",
    "version": 3
   },
   "file_extension": ".py",
   "mimetype": "text/x-python",
   "name": "python",
   "nbconvert_exporter": "python",
   "pygments_lexer": "ipython3",
   "version": "3.7.3"
  }
 },
 "nbformat": 4,
 "nbformat_minor": 4
}
