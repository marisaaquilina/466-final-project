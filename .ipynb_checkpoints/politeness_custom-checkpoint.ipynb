{
 "cells": [
  {
   "cell_type": "markdown",
   "metadata": {},
   "source": [
    "# Lexical Features\n",
    "- Term frequency for tagged entities\n",
    "- Number of links\n",
    "- Number of code snippets\n",
    "- Measures of politeness"
   ]
  },
  {
   "cell_type": "markdown",
   "metadata": {},
   "source": [
    "## Politeness"
   ]
  },
  {
   "cell_type": "code",
   "execution_count": 47,
   "metadata": {},
   "outputs": [],
   "source": [
    "import convokit\n",
    "from convokit import Corpus, Speaker, Utterance\n",
    "from convokit import TextParser\n",
    "from convokit import download\n",
    "from convokit import PolitenessStrategies\n",
    "import pandas as pd\n",
    "import spacy\n",
    "import re"
   ]
  },
  {
   "cell_type": "code",
   "execution_count": 48,
   "metadata": {},
   "outputs": [],
   "source": [
    "def preprocess(text):\n",
    "    text = re.sub('<[^<]+?>|', '', text)\n",
    "    text = \" \".join(text.split())\n",
    "    return text"
   ]
  },
  {
   "cell_type": "code",
   "execution_count": 49,
   "metadata": {},
   "outputs": [],
   "source": [
    "from tqdm import tqdm\n",
    "from convokit import Corpus, Speaker, Utterance\n",
    "from collections import defaultdict"
   ]
  },
  {
   "cell_type": "code",
   "execution_count": 50,
   "metadata": {},
   "outputs": [],
   "source": [
    "answers = pd.read_csv(\"datasets/answers.csv\", encoding=\"ISO-8859-1\")\n",
    "questions = pd.read_csv(\"datasets/questions.csv\", encoding=\"ISO-8859-1\")"
   ]
  },
  {
   "cell_type": "code",
   "execution_count": 51,
   "metadata": {},
   "outputs": [
    {
     "data": {
      "text/html": [
       "<div>\n",
       "<style scoped>\n",
       "    .dataframe tbody tr th:only-of-type {\n",
       "        vertical-align: middle;\n",
       "    }\n",
       "\n",
       "    .dataframe tbody tr th {\n",
       "        vertical-align: top;\n",
       "    }\n",
       "\n",
       "    .dataframe thead th {\n",
       "        text-align: right;\n",
       "    }\n",
       "</style>\n",
       "<table border=\"1\" class=\"dataframe\">\n",
       "  <thead>\n",
       "    <tr style=\"text-align: right;\">\n",
       "      <th></th>\n",
       "      <th>question_id</th>\n",
       "      <th>answer_id</th>\n",
       "      <th>is_accepted</th>\n",
       "      <th>body</th>\n",
       "      <th>user_id</th>\n",
       "      <th>reputation</th>\n",
       "      <th>score</th>\n",
       "    </tr>\n",
       "  </thead>\n",
       "  <tbody>\n",
       "    <tr>\n",
       "      <th>0</th>\n",
       "      <td>67234961</td>\n",
       "      <td>67236964</td>\n",
       "      <td>True</td>\n",
       "      <td>&lt;p&gt;If there are multiple records for given key...</td>\n",
       "      <td>11641029.0</td>\n",
       "      <td>5078.0</td>\n",
       "      <td>0</td>\n",
       "    </tr>\n",
       "    <tr>\n",
       "      <th>1</th>\n",
       "      <td>35793622</td>\n",
       "      <td>67239365</td>\n",
       "      <td>False</td>\n",
       "      <td>&lt;p&gt;If you end up here because you Googled &amp;quo...</td>\n",
       "      <td>1740065.0</td>\n",
       "      <td>125.0</td>\n",
       "      <td>0</td>\n",
       "    </tr>\n",
       "    <tr>\n",
       "      <th>2</th>\n",
       "      <td>35793622</td>\n",
       "      <td>35794243</td>\n",
       "      <td>True</td>\n",
       "      <td>&lt;p&gt;It seems to be an SDL issue. &lt;a href=\"http:...</td>\n",
       "      <td>1458617.0</td>\n",
       "      <td>10998.0</td>\n",
       "      <td>2</td>\n",
       "    </tr>\n",
       "    <tr>\n",
       "      <th>3</th>\n",
       "      <td>56035960</td>\n",
       "      <td>67239339</td>\n",
       "      <td>False</td>\n",
       "      <td>&lt;p&gt;This could be an installation and setup pro...</td>\n",
       "      <td>10665896.0</td>\n",
       "      <td>11.0</td>\n",
       "      <td>0</td>\n",
       "    </tr>\n",
       "    <tr>\n",
       "      <th>4</th>\n",
       "      <td>56035960</td>\n",
       "      <td>56042011</td>\n",
       "      <td>True</td>\n",
       "      <td>&lt;p&gt;As per &lt;a href=\"https://docs.oracle.com/jav...</td>\n",
       "      <td>2897748.0</td>\n",
       "      <td>116880.0</td>\n",
       "      <td>1</td>\n",
       "    </tr>\n",
       "  </tbody>\n",
       "</table>\n",
       "</div>"
      ],
      "text/plain": [
       "   question_id  answer_id  is_accepted  \\\n",
       "0     67234961   67236964         True   \n",
       "1     35793622   67239365        False   \n",
       "2     35793622   35794243         True   \n",
       "3     56035960   67239339        False   \n",
       "4     56035960   56042011         True   \n",
       "\n",
       "                                                body     user_id  reputation  \\\n",
       "0  <p>If there are multiple records for given key...  11641029.0      5078.0   \n",
       "1  <p>If you end up here because you Googled &quo...   1740065.0       125.0   \n",
       "2  <p>It seems to be an SDL issue. <a href=\"http:...   1458617.0     10998.0   \n",
       "3  <p>This could be an installation and setup pro...  10665896.0        11.0   \n",
       "4  <p>As per <a href=\"https://docs.oracle.com/jav...   2897748.0    116880.0   \n",
       "\n",
       "   score  \n",
       "0      0  \n",
       "1      0  \n",
       "2      2  \n",
       "3      0  \n",
       "4      1  "
      ]
     },
     "execution_count": 51,
     "metadata": {},
     "output_type": "execute_result"
    }
   ],
   "source": [
    "answers.head()"
   ]
  },
  {
   "cell_type": "code",
   "execution_count": 52,
   "metadata": {},
   "outputs": [],
   "source": [
    "questions['body'] = questions['body'].apply(lambda text: preprocess(text))"
   ]
  },
  {
   "cell_type": "code",
   "execution_count": 57,
   "metadata": {},
   "outputs": [
    {
     "data": {
      "text/plain": [
       "0       If there are multiple records for given key, y...\n",
       "1       If you end up here because you Googled &quot;e...\n",
       "2       It seems to be an SDL issue. Here is a discuss...\n",
       "3       This could be an installation and setup proble...\n",
       "4       As per java command line documentation: When y...\n",
       "                              ...                        \n",
       "9144    The finally clause executes after the return s...\n",
       "9145    According to the MSDN Library (Microsoft.Windo...\n",
       "9146    Without seeing more code, it's hard to guess w...\n",
       "9147    According to the JavaDoc: It remains valid unt...\n",
       "9148    Yes. Locks depend on a file descriptor. When t...\n",
       "Name: body, Length: 9149, dtype: object"
      ]
     },
     "execution_count": 57,
     "metadata": {},
     "output_type": "execute_result"
    }
   ],
   "source": [
    "answers['body'] = answers['body'].apply(lambda text: preprocess(text))\n",
    "answers['body']"
   ]
  },
  {
   "cell_type": "code",
   "execution_count": 59,
   "metadata": {},
   "outputs": [],
   "source": [
    "answers['body'].to_csv(\"preprocessed_answers.csv\", index=False)"
   ]
  },
  {
   "cell_type": "code",
   "execution_count": 7,
   "metadata": {},
   "outputs": [
    {
     "name": "stdout",
     "output_type": "stream",
     "text": [
      "number of speakers in the data = 4674\n"
     ]
    },
    {
     "data": {
      "text/plain": [
       "{'user_id': 11641029.0, 'reputation': 5078.0, 'score': 0}"
      ]
     },
     "execution_count": 7,
     "metadata": {},
     "output_type": "execute_result"
    }
   ],
   "source": [
    "# 1. Creating speakers\n",
    "    \n",
    "speaker_meta = {}\n",
    "for index, row in answers.iterrows():\n",
    "    speaker_meta[str(row['user_id'])] = {\n",
    "        \"user_id\": row['user_id'],\n",
    "        \"reputation\":row['reputation'],\n",
    "        \"score\": row['score']\n",
    "    }\n",
    "    \n",
    "corpus_speakers = {k: Speaker(id = k, meta = v) for k,v in speaker_meta.items()}\n",
    "print(\"number of speakers in the data = {}\".format(len(corpus_speakers)))\n",
    "corpus_speakers['11641029.0'].meta"
   ]
  },
  {
   "cell_type": "code",
   "execution_count": 8,
   "metadata": {},
   "outputs": [
    {
     "name": "stdout",
     "output_type": "stream",
     "text": [
      "Total number of utterances = 9149\n"
     ]
    },
    {
     "data": {
      "text/plain": [
       "Utterance({'obj_type': 'utterance', 'meta': {'answer_id': '67236964', 'question_id': '67234961'}, 'vectors': [], 'speaker': Speaker({'obj_type': 'speaker', 'meta': {'user_id': 11641029.0, 'reputation': 5078.0, 'score': 0}, 'vectors': [], 'owner': None, 'id': '11641029.0'}), 'conversation_id': None, 'reply_to': None, 'timestamp': None, 'text': \"If there are multiple records for given key, you were overriding it everytime. Update your inner loop with following code. for (const [reportKey, reportValue] of Object.entries(value)) { // console.log(reportKey, reportValue); // this[&quot;reportKey&quot;] = reportKey; if ( reportKey.toUpperCase() != horizontal &amp;&amp; reportKey.toUpperCase() != vertical ) { // this[&quot;reportKey&quot;] = this.getMetricsName(this[&quot;reportKey&quot;]); let rK = this.getMetricsName(reportKey); // let dataSet = []; // dataSet.push( let dataset = { x: xAxis, y: yAxis, value: reportValue, &quot;x-axis&quot;: horizontal, &quot;y-axis&quot;: vertical, &quot;x-name&quot;: value.PROCESSING_DAY, &quot;y-name&quot;: value.PROCESSING_TIME }; // ); if (!(rK[0] in reportKeyData)) { reportKeyData[rK[0]] = []; } reportKeyData[rK[0]].push(dataset); // reportKeyData[this[&quot;reportKey&quot;][0]] = dataSet; } } Note: I've kept your code as commented, so you can see what has been changed.\", 'owner': None, 'id': '0'})"
      ]
     },
     "execution_count": 8,
     "metadata": {},
     "output_type": "execute_result"
    }
   ],
   "source": [
    "# 2. Creating utterance objects   \n",
    "utterance_corpus = {}\n",
    "count = 0\n",
    "for index, row in answers.iterrows():\n",
    "    utterance_corpus[str(index)] = Utterance(id=str(index), speaker=corpus_speakers[str(row['user_id'])], text=row['body'], meta={'answer_id': str(row['answer_id']), 'question_id': str(row['question_id'])})\n",
    "    \n",
    "print(\"Total number of utterances = {}\".format(len(utterance_corpus)))\n",
    "utterance_corpus[str(0)]"
   ]
  },
  {
   "cell_type": "code",
   "execution_count": 18,
   "metadata": {},
   "outputs": [
    {
     "data": {
      "text/plain": [
       "Utterance({'obj_type': 'utterance', 'meta': {'answer_id': '67236964', 'question_id': '67234961'}, 'vectors': [], 'speaker': Speaker({'obj_type': 'speaker', 'meta': {'user_id': 11641029.0, 'reputation': 5078.0, 'score': 0}, 'vectors': [], 'owner': <convokit.model.corpus.Corpus object at 0x1288fd7c0>, 'id': '11641029.0'}), 'conversation_id': '67236964', 'reply_to': '67234961', 'timestamp': None, 'text': \"If there are multiple records for given key, you were overriding it everytime. Update your inner loop with following code. for (const [reportKey, reportValue] of Object.entries(value)) { // console.log(reportKey, reportValue); // this[&quot;reportKey&quot;] = reportKey; if ( reportKey.toUpperCase() != horizontal &amp;&amp; reportKey.toUpperCase() != vertical ) { // this[&quot;reportKey&quot;] = this.getMetricsName(this[&quot;reportKey&quot;]); let rK = this.getMetricsName(reportKey); // let dataSet = []; // dataSet.push( let dataset = { x: xAxis, y: yAxis, value: reportValue, &quot;x-axis&quot;: horizontal, &quot;y-axis&quot;: vertical, &quot;x-name&quot;: value.PROCESSING_DAY, &quot;y-name&quot;: value.PROCESSING_TIME }; // ); if (!(rK[0] in reportKeyData)) { reportKeyData[rK[0]] = []; } reportKeyData[rK[0]].push(dataset); // reportKeyData[this[&quot;reportKey&quot;][0]] = dataSet; } } Note: I've kept your code as commented, so you can see what has been changed.\", 'owner': <convokit.model.corpus.Corpus object at 0x1288fd7c0>, 'id': '0'})"
      ]
     },
     "execution_count": 18,
     "metadata": {},
     "output_type": "execute_result"
    }
   ],
   "source": [
    "#  Updating root and reply_to information to utterances\n",
    "\n",
    "import ast\n",
    "\n",
    "for index, row in answers.iterrows():\n",
    "    utterance_corpus[str(index)].conversation_id = str(row['answer_id'])\n",
    "    utterance_corpus[str(index)].reply_to = str(row['question_id'])\n",
    "                \n",
    "utterance_corpus[str(0)]"
   ]
  },
  {
   "cell_type": "code",
   "execution_count": 10,
   "metadata": {},
   "outputs": [
    {
     "name": "stdout",
     "output_type": "stream",
     "text": [
      "sample conversation 0:\n",
      "['0']\n",
      "sample conversation 1:\n",
      "['1']\n",
      "sample conversation 2:\n",
      "['2']\n",
      "sample conversation 3:\n",
      "['3']\n",
      "sample conversation 4:\n",
      "['4']\n"
     ]
    }
   ],
   "source": [
    "# 3. Creating corpus from list of utterances\n",
    "utterance_list = utterance_corpus.values()\n",
    "answer_corpus = Corpus(utterances=utterance_list)\n",
    "convo_ids = answer_corpus.get_conversation_ids()\n",
    "for i, convo_idx in enumerate(convo_ids[0:5]):\n",
    "    print(\"sample conversation {}:\".format(i))\n",
    "    print(answer_corpus.get_conversation(convo_idx).get_utterance_ids())"
   ]
  }
 ],
 "metadata": {
  "kernelspec": {
   "display_name": "Python 3",
   "language": "python",
   "name": "python3"
  },
  "language_info": {
   "codemirror_mode": {
    "name": "ipython",
    "version": 3
   },
   "file_extension": ".py",
   "mimetype": "text/x-python",
   "name": "python",
   "nbconvert_exporter": "python",
   "pygments_lexer": "ipython3",
   "version": "3.8.5"
  }
 },
 "nbformat": 4,
 "nbformat_minor": 4
}
