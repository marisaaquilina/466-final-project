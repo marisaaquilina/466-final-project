{
 "cells": [
  {
   "cell_type": "markdown",
   "metadata": {},
   "source": [
    "# Models"
   ]
  },
  {
   "cell_type": "markdown",
   "metadata": {},
   "source": [
    "## Import dependencies"
   ]
  },
  {
   "cell_type": "code",
   "execution_count": 1,
   "metadata": {},
   "outputs": [],
   "source": [
    "import pandas as pd\n",
    "from sklearn.model_selection import train_test_split\n",
    "from sklearn.svm import SVC\n",
    "from sklearn.metrics import classification_report"
   ]
  },
  {
   "cell_type": "markdown",
   "metadata": {},
   "source": [
    "## Import dataset"
   ]
  },
  {
   "cell_type": "code",
   "execution_count": 2,
   "metadata": {},
   "outputs": [],
   "source": [
    "df = pd.read_csv(\"datasets/features_with_politeness.csv\", encoding=\"ISO-8859-1\").dropna()"
   ]
  },
  {
   "cell_type": "markdown",
   "metadata": {},
   "source": [
    "## Explore dataset"
   ]
  },
  {
   "cell_type": "code",
   "execution_count": 3,
   "metadata": {},
   "outputs": [
    {
     "name": "stdout",
     "output_type": "stream",
     "text": [
      "(10162, 48)\n"
     ]
    },
    {
     "data": {
      "text/html": [
       "<div>\n",
       "<style scoped>\n",
       "    .dataframe tbody tr th:only-of-type {\n",
       "        vertical-align: middle;\n",
       "    }\n",
       "\n",
       "    .dataframe tbody tr th {\n",
       "        vertical-align: top;\n",
       "    }\n",
       "\n",
       "    .dataframe thead th {\n",
       "        text-align: right;\n",
       "    }\n",
       "</style>\n",
       "<table border=\"1\" class=\"dataframe\">\n",
       "  <thead>\n",
       "    <tr style=\"text-align: right;\">\n",
       "      <th></th>\n",
       "      <th>question_id</th>\n",
       "      <th>answer_id</th>\n",
       "      <th>a_score_rel_q_score</th>\n",
       "      <th>answer_score</th>\n",
       "      <th>entities_matches</th>\n",
       "      <th>reputation</th>\n",
       "      <th>reply_by_author</th>\n",
       "      <th>len_answer_text</th>\n",
       "      <th>is_accepted</th>\n",
       "      <th>code_snippet_count</th>\n",
       "      <th>...</th>\n",
       "      <th>Subjectivity</th>\n",
       "      <th>Bare.Command</th>\n",
       "      <th>WH.Questions</th>\n",
       "      <th>YesNo.Questions</th>\n",
       "      <th>Gratitude</th>\n",
       "      <th>Apology</th>\n",
       "      <th>Truth.Intensifier</th>\n",
       "      <th>Affirmation</th>\n",
       "      <th>Adverb.Just</th>\n",
       "      <th>Conjunction.Start</th>\n",
       "    </tr>\n",
       "  </thead>\n",
       "  <tbody>\n",
       "    <tr>\n",
       "      <th>0</th>\n",
       "      <td>22528</td>\n",
       "      <td>22594</td>\n",
       "      <td>-6</td>\n",
       "      <td>5</td>\n",
       "      <td>1</td>\n",
       "      <td>17497.0</td>\n",
       "      <td>False</td>\n",
       "      <td>628</td>\n",
       "      <td>False</td>\n",
       "      <td>0</td>\n",
       "      <td>...</td>\n",
       "      <td>0</td>\n",
       "      <td>0</td>\n",
       "      <td>0</td>\n",
       "      <td>0</td>\n",
       "      <td>0</td>\n",
       "      <td>0</td>\n",
       "      <td>0</td>\n",
       "      <td>0</td>\n",
       "      <td>0</td>\n",
       "      <td>0</td>\n",
       "    </tr>\n",
       "    <tr>\n",
       "      <th>1</th>\n",
       "      <td>22528</td>\n",
       "      <td>22587</td>\n",
       "      <td>2</td>\n",
       "      <td>13</td>\n",
       "      <td>0</td>\n",
       "      <td>17787.0</td>\n",
       "      <td>False</td>\n",
       "      <td>699</td>\n",
       "      <td>True</td>\n",
       "      <td>0</td>\n",
       "      <td>...</td>\n",
       "      <td>0</td>\n",
       "      <td>0</td>\n",
       "      <td>0</td>\n",
       "      <td>0</td>\n",
       "      <td>0</td>\n",
       "      <td>0</td>\n",
       "      <td>1</td>\n",
       "      <td>0</td>\n",
       "      <td>0</td>\n",
       "      <td>1</td>\n",
       "    </tr>\n",
       "    <tr>\n",
       "      <th>2</th>\n",
       "      <td>22528</td>\n",
       "      <td>22578</td>\n",
       "      <td>-11</td>\n",
       "      <td>0</td>\n",
       "      <td>1</td>\n",
       "      <td>21216.0</td>\n",
       "      <td>False</td>\n",
       "      <td>338</td>\n",
       "      <td>False</td>\n",
       "      <td>1</td>\n",
       "      <td>...</td>\n",
       "      <td>0</td>\n",
       "      <td>2</td>\n",
       "      <td>0</td>\n",
       "      <td>0</td>\n",
       "      <td>0</td>\n",
       "      <td>0</td>\n",
       "      <td>0</td>\n",
       "      <td>0</td>\n",
       "      <td>1</td>\n",
       "      <td>0</td>\n",
       "    </tr>\n",
       "    <tr>\n",
       "      <th>3</th>\n",
       "      <td>22528</td>\n",
       "      <td>22551</td>\n",
       "      <td>-10</td>\n",
       "      <td>1</td>\n",
       "      <td>2</td>\n",
       "      <td>480242.0</td>\n",
       "      <td>False</td>\n",
       "      <td>422</td>\n",
       "      <td>False</td>\n",
       "      <td>0</td>\n",
       "      <td>...</td>\n",
       "      <td>0</td>\n",
       "      <td>0</td>\n",
       "      <td>0</td>\n",
       "      <td>0</td>\n",
       "      <td>0</td>\n",
       "      <td>0</td>\n",
       "      <td>0</td>\n",
       "      <td>0</td>\n",
       "      <td>0</td>\n",
       "      <td>0</td>\n",
       "    </tr>\n",
       "    <tr>\n",
       "      <th>4</th>\n",
       "      <td>22528</td>\n",
       "      <td>22537</td>\n",
       "      <td>-11</td>\n",
       "      <td>0</td>\n",
       "      <td>0</td>\n",
       "      <td>10583.0</td>\n",
       "      <td>False</td>\n",
       "      <td>318</td>\n",
       "      <td>False</td>\n",
       "      <td>0</td>\n",
       "      <td>...</td>\n",
       "      <td>0</td>\n",
       "      <td>1</td>\n",
       "      <td>1</td>\n",
       "      <td>1</td>\n",
       "      <td>0</td>\n",
       "      <td>0</td>\n",
       "      <td>0</td>\n",
       "      <td>0</td>\n",
       "      <td>0</td>\n",
       "      <td>0</td>\n",
       "    </tr>\n",
       "  </tbody>\n",
       "</table>\n",
       "<p>5 rows × 48 columns</p>\n",
       "</div>"
      ],
      "text/plain": [
       "   question_id  answer_id  a_score_rel_q_score  answer_score  \\\n",
       "0        22528      22594                   -6             5   \n",
       "1        22528      22587                    2            13   \n",
       "2        22528      22578                  -11             0   \n",
       "3        22528      22551                  -10             1   \n",
       "4        22528      22537                  -11             0   \n",
       "\n",
       "   entities_matches  reputation  reply_by_author  len_answer_text  \\\n",
       "0                 1     17497.0            False              628   \n",
       "1                 0     17787.0            False              699   \n",
       "2                 1     21216.0            False              338   \n",
       "3                 2    480242.0            False              422   \n",
       "4                 0     10583.0            False              318   \n",
       "\n",
       "   is_accepted  code_snippet_count  ...  Subjectivity  Bare.Command  \\\n",
       "0        False                   0  ...             0             0   \n",
       "1         True                   0  ...             0             0   \n",
       "2        False                   1  ...             0             2   \n",
       "3        False                   0  ...             0             0   \n",
       "4        False                   0  ...             0             1   \n",
       "\n",
       "   WH.Questions  YesNo.Questions  Gratitude  Apology  Truth.Intensifier  \\\n",
       "0             0                0          0        0                  0   \n",
       "1             0                0          0        0                  1   \n",
       "2             0                0          0        0                  0   \n",
       "3             0                0          0        0                  0   \n",
       "4             1                1          0        0                  0   \n",
       "\n",
       "   Affirmation  Adverb.Just  Conjunction.Start  \n",
       "0            0            0                  0  \n",
       "1            0            0                  1  \n",
       "2            0            1                  0  \n",
       "3            0            0                  0  \n",
       "4            0            0                  0  \n",
       "\n",
       "[5 rows x 48 columns]"
      ]
     },
     "execution_count": 3,
     "metadata": {},
     "output_type": "execute_result"
    }
   ],
   "source": [
    "print(df.shape)\n",
    "df.head()"
   ]
  },
  {
   "cell_type": "markdown",
   "metadata": {},
   "source": [
    "## Split train-test"
   ]
  },
  {
   "cell_type": "code",
   "execution_count": 4,
   "metadata": {},
   "outputs": [],
   "source": [
    "# What is answer_score?\n",
    "\n",
    "features = ['a_score_rel_q_score', 'answer_score',\n",
    "       'entities_matches', 'reputation', 'reply_by_author', 'len_answer_text', 'code_snippet_count', 'link_count', 'Hedges',\n",
    "       'Positive.Emotion', 'Negative.Emotion',\n",
    "       'Swearing', 'Negation', 'Informal.Title', 'Reasoning', 'Reassurance', 'Please', 'Agreement', 'Acknowledgement',\n",
    "       'Subjectivity', 'Bare.Command', 'WH.Questions', 'YesNo.Questions',\n",
    "       'Gratitude', 'Apology', 'Truth.Intensifier', 'Affirmation']"
   ]
  },
  {
   "cell_type": "code",
   "execution_count": 5,
   "metadata": {},
   "outputs": [],
   "source": [
    "X = df[features]\n",
    "y = df['is_accepted']\n",
    "X_train, X_test, y_train, y_test = train_test_split(X, y, test_size=0.2)"
   ]
  },
  {
   "cell_type": "markdown",
   "metadata": {},
   "source": [
    "## Train SVC"
   ]
  },
  {
   "cell_type": "code",
   "execution_count": null,
   "metadata": {},
   "outputs": [
    {
     "name": "stdout",
     "output_type": "stream",
     "text": [
      "[LibSVM]"
     ]
    }
   ],
   "source": [
    "svclassifier = SVC(kernel='linear', verbose=True)\n",
    "svclassifier.fit(X_train, y_train)"
   ]
  },
  {
   "cell_type": "markdown",
   "metadata": {},
   "source": [
    "## Predict `is_accepted`"
   ]
  },
  {
   "cell_type": "code",
   "execution_count": null,
   "metadata": {},
   "outputs": [],
   "source": [
    "y_pred = svclassifier.predict(X_test)\n",
    "print(y_pred)"
   ]
  },
  {
   "cell_type": "markdown",
   "metadata": {},
   "source": [
    "## Evaluate model"
   ]
  },
  {
   "cell_type": "code",
   "execution_count": null,
   "metadata": {},
   "outputs": [],
   "source": [
    "print(classification_report(y_test, y_pred))"
   ]
  }
 ],
 "metadata": {
  "kernelspec": {
   "display_name": "Python 3",
   "language": "python",
   "name": "python3"
  },
  "language_info": {
   "codemirror_mode": {
    "name": "ipython",
    "version": 3
   },
   "file_extension": ".py",
   "mimetype": "text/x-python",
   "name": "python",
   "nbconvert_exporter": "python",
   "pygments_lexer": "ipython3",
   "version": "3.8.5"
  }
 },
 "nbformat": 4,
 "nbformat_minor": 4
}
